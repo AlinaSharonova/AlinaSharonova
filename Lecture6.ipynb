{
  "nbformat": 4,
  "nbformat_minor": 0,
  "metadata": {
    "colab": {
      "provenance": [],
      "authorship_tag": "ABX9TyMEDuvDBnMnh0fQA7htbhGi",
      "include_colab_link": true
    },
    "kernelspec": {
      "name": "python3",
      "display_name": "Python 3"
    },
    "language_info": {
      "name": "python"
    }
  },
  "cells": [
    {
      "cell_type": "markdown",
      "metadata": {
        "id": "view-in-github",
        "colab_type": "text"
      },
      "source": [
        "<a href=\"https://colab.research.google.com/github/AlinaSharonova/AlinaSharonova/blob/master/Lecture6.ipynb\" target=\"_parent\"><img src=\"https://colab.research.google.com/assets/colab-badge.svg\" alt=\"Open In Colab\"/></a>"
      ]
    },
    {
      "cell_type": "markdown",
      "source": [
        "Сгенерируем случайные числа и представим их в виде DataFrame."
      ],
      "metadata": {
        "id": "554WD6H78hyx"
      }
    },
    {
      "cell_type": "code",
      "execution_count": 3,
      "metadata": {
        "colab": {
          "base_uri": "https://localhost:8080/"
        },
        "id": "q7sx-ZGF4w_4",
        "outputId": "53f427f9-f569-4710-fd67-10ee346211d9"
      },
      "outputs": [
        {
          "output_type": "stream",
          "name": "stdout",
          "text": [
            "          A         B         C         D\n",
            "0 -0.529424 -0.753939  0.540896  0.542673\n",
            "1  0.115200  0.508617  0.439712 -0.410148\n",
            "2  0.914168 -0.630235 -1.560944 -0.046063\n",
            "3  2.060195 -1.272152 -1.852088 -0.340747\n",
            "4 -0.042525 -0.588682  0.088340  0.479405\n",
            "5 -0.806120  1.627349  0.432944 -0.047705\n",
            "6 -1.423448  1.165717 -2.107321  0.955815\n",
            "7 -0.224856  0.540287 -2.414413 -0.813476\n",
            "8  0.139223 -0.437576 -1.995629 -0.553651\n",
            "9  0.869994  1.244018  0.614934  0.990518\n"
          ]
        }
      ],
      "source": [
        "import pandas as pd\n",
        "\n",
        "df = pd.DataFrame(sps.norm.rvs(size=(10,4)), columns=['A', 'B', 'C', 'D'])\n",
        "print(df)"
      ]
    },
    {
      "cell_type": "markdown",
      "source": [
        "Выведем описательные статистики по столбцам — количество\n",
        "значений, среднее, стандартное отклонение (корень из дисперсии), минимум,\n",
        "квантили, максимум."
      ],
      "metadata": {
        "id": "QE87NMIJ8hDF"
      }
    },
    {
      "cell_type": "code",
      "source": [
        "import pandas as pd\n",
        "import scipy.stats as sps\n",
        "df = pd.DataFrame(sps.norm.rvs(size=(10,4)), columns=['A', 'B', 'C', 'D'])\n",
        "print(df.describe())"
      ],
      "metadata": {
        "colab": {
          "base_uri": "https://localhost:8080/"
        },
        "id": "DvZDX_Ih8E2J",
        "outputId": "b77f155b-8295-4a09-f08b-57d01359c745"
      },
      "execution_count": 2,
      "outputs": [
        {
          "output_type": "stream",
          "name": "stdout",
          "text": [
            "               A          B          C          D\n",
            "count  10.000000  10.000000  10.000000  10.000000\n",
            "mean    0.439575  -0.009285  -0.375331   0.435337\n",
            "std     1.471943   0.748935   1.314379   1.302127\n",
            "min    -1.139167  -0.998102  -3.149539  -1.344005\n",
            "25%    -0.967371  -0.574319  -0.854303   0.026200\n",
            "50%     0.338744   0.021368  -0.591914   0.328089\n",
            "75%     1.397873   0.488308   0.395678   0.814866\n",
            "max     2.710133   1.376646   1.334936   3.228256\n"
          ]
        }
      ]
    },
    {
      "cell_type": "markdown",
      "source": [
        "Среднее по столбцам"
      ],
      "metadata": {
        "id": "gG1rRWeL8y6c"
      }
    },
    {
      "cell_type": "code",
      "source": [
        "import pandas as pd\n",
        "import scipy.stats as sps\n",
        "\n",
        "df = pd.DataFrame(sps.norm.rvs(size=(10,4)), columns=['A', 'B', 'C', 'D'])\n",
        "print(df.mean())"
      ],
      "metadata": {
        "colab": {
          "base_uri": "https://localhost:8080/"
        },
        "id": "JQn9GMAS8zEW",
        "outputId": "41bd5dae-6bf4-43b1-8b32-048a27e63299"
      },
      "execution_count": 5,
      "outputs": [
        {
          "output_type": "stream",
          "name": "stdout",
          "text": [
            "A   -0.080755\n",
            "B    0.269593\n",
            "C    0.343695\n",
            "D    0.128770\n",
            "dtype: float64\n"
          ]
        }
      ]
    },
    {
      "cell_type": "markdown",
      "source": [
        "Оценка матрицы корреляций значений в столбцах"
      ],
      "metadata": {
        "id": "2aL2O-JM-utW"
      }
    },
    {
      "cell_type": "code",
      "source": [
        "import pandas as pd\n",
        "import scipy.stats as sps\n",
        "\n",
        "df = pd.DataFrame(sps.norm.rvs(size=(10,4)), columns=['A', 'B', 'C', 'D'])\n",
        "print(df.corr())"
      ],
      "metadata": {
        "colab": {
          "base_uri": "https://localhost:8080/"
        },
        "id": "g8U0mwEg-u22",
        "outputId": "edab1157-9954-4201-a40e-59796105007e"
      },
      "execution_count": 6,
      "outputs": [
        {
          "output_type": "stream",
          "name": "stdout",
          "text": [
            "          A         B         C         D\n",
            "A  1.000000 -0.160261  0.271810 -0.073084\n",
            "B -0.160261  1.000000 -0.126572  0.189416\n",
            "C  0.271810 -0.126572  1.000000  0.498585\n",
            "D -0.073084  0.189416  0.498585  1.000000\n"
          ]
        }
      ]
    },
    {
      "cell_type": "markdown",
      "source": [
        "разброс\n",
        "значений — разница максимума и минимума."
      ],
      "metadata": {
        "id": "NGTFPbKH_V8q"
      }
    },
    {
      "cell_type": "code",
      "source": [
        "import pandas as pd\n",
        "import scipy.stats as sps\n",
        "\n",
        "df = pd.DataFrame(sps.norm.rvs(size=(10,4)), columns=['A', 'B', 'C', 'D'])\n",
        "print(df.apply(lambda x: x.max() - x.min()))"
      ],
      "metadata": {
        "colab": {
          "base_uri": "https://localhost:8080/"
        },
        "id": "A67NIXtm_WHK",
        "outputId": "e88a458e-cf03-45d4-f5c8-36e3936c67ad"
      },
      "execution_count": 7,
      "outputs": [
        {
          "output_type": "stream",
          "name": "stdout",
          "text": [
            "A    3.834619\n",
            "B    3.094208\n",
            "C    3.564700\n",
            "D    3.025422\n",
            "dtype: float64\n"
          ]
        }
      ]
    },
    {
      "cell_type": "markdown",
      "source": [
        "Создадим новую таблицу из первых четырех строк таблицы df. В новую\n",
        "таблицу добавим колонку flag, в которую запишем условие, что число в\n",
        "столбце D положительно. Затем добавим строки из новой таблицы к старой.\n",
        "Полученная таблица содержит пропуски, которые отмечены как NaN."
      ],
      "metadata": {
        "id": "xmVseiyD_jA4"
      }
    },
    {
      "cell_type": "code",
      "source": [
        "import pandas as pd\n",
        "import scipy.stats as sps\n",
        "\n",
        "df = pd.DataFrame(sps.norm.rvs(size=(10, 4)), columns=['A', 'B', 'C', 'D'])\n",
        "other = df[:4].copy()\n",
        "# Полное копирование\n",
        "other['flag'] = other['D'] > 0\n",
        "other['D'] = other['D'] ** 2\n",
        "df.append(other, ignore_index=True,\n",
        "sort=False)\n",
        "print(df)"
      ],
      "metadata": {
        "colab": {
          "base_uri": "https://localhost:8080/"
        },
        "id": "LTZSsBrJ_jML",
        "outputId": "c048140d-39ad-4693-b4d8-d92bc4912671"
      },
      "execution_count": 8,
      "outputs": [
        {
          "output_type": "stream",
          "name": "stdout",
          "text": [
            "          A         B         C         D\n",
            "0 -0.296344 -0.737218 -1.890934 -1.224453\n",
            "1 -0.492770  1.265298 -0.586228 -0.950898\n",
            "2 -1.243377  0.176799  0.177218 -0.910539\n",
            "3 -0.371635  0.028108  0.213240 -0.646116\n",
            "4 -0.226434  1.367169 -1.077257  0.170300\n",
            "5  0.846378 -0.087487 -1.453282  0.024440\n",
            "6  1.893816  0.042348 -0.393099  0.188323\n",
            "7  1.091242  1.027522  0.473873 -0.220099\n",
            "8  0.143503 -1.152169 -0.583677 -0.374885\n",
            "9 -1.834298 -0.994218 -0.358994  1.195921\n"
          ]
        }
      ]
    },
    {
      "cell_type": "markdown",
      "source": [
        "соединения таблиц"
      ],
      "metadata": {
        "id": "VQsopai3Boez"
      }
    },
    {
      "cell_type": "code",
      "source": [
        "import pandas as pd\n",
        "import scipy.stats as sps\n",
        "\n",
        "df = pd.DataFrame(sps.norm.rvs(size=(10, 4)), columns=['A', 'B', 'C', 'D'])\n",
        "print(pd.concat([df[:5], df[5:]]))"
      ],
      "metadata": {
        "colab": {
          "base_uri": "https://localhost:8080/"
        },
        "id": "MeltNShpBol0",
        "outputId": "a755e95d-6863-47c9-e5a3-280428c24e09"
      },
      "execution_count": 9,
      "outputs": [
        {
          "output_type": "stream",
          "name": "stdout",
          "text": [
            "          A         B         C         D\n",
            "0 -1.635762  1.204832 -0.184537  0.338709\n",
            "1 -0.542514  1.029386  1.577681 -0.993250\n",
            "2 -0.783836 -2.269694  0.327260  0.095843\n",
            "3 -1.394547 -0.269195 -0.922605  1.379531\n",
            "4 -0.506513 -0.680590  0.831290  0.077532\n",
            "5  0.837389 -0.924500 -0.753881 -0.062440\n",
            "6  0.845617 -1.807777  0.017676 -0.688173\n",
            "7 -0.297195 -0.611189 -0.130772 -0.516575\n",
            "8  1.850827 -0.904489 -0.877034  0.184266\n",
            "9 -1.002017 -1.096423  1.330165 -0.299846\n"
          ]
        }
      ]
    },
    {
      "cell_type": "markdown",
      "source": [
        "Внутрееннее слияние - используются ключи из пересечения списков ключей ( используются ключи, которые присутствуют в обеих таюлицах)"
      ],
      "metadata": {
        "id": "_Oi2dqLXNpVC"
      }
    },
    {
      "cell_type": "code",
      "source": [
        "import pandas as pd\n",
        "import scipy.stats as sps\n",
        "left = pd.DataFrame({'lkey': ['A', 'B', 'C', 'A'],'value': range(4)})\n",
        "right = pd.DataFrame({'rkey': ['A', 'B', 'D', 'B'],'value': range(4, 8)})\n",
        "print(\"Left:\")\n",
        "print(left)\n",
        "print(\"\\nRight:\")\n",
        "print(right)\n",
        "df=pd.merge(left, right,left_on='lkey', right_on='rkey',how='inner')\n",
        "print(\"\\nMerge:\")\n",
        "print(df)"
      ],
      "metadata": {
        "colab": {
          "base_uri": "https://localhost:8080/"
        },
        "id": "krVT_a8FQGHb",
        "outputId": "93e58469-0bd6-4aff-f77e-b39f4209be41"
      },
      "execution_count": 10,
      "outputs": [
        {
          "output_type": "stream",
          "name": "stdout",
          "text": [
            "Left:\n",
            "  lkey  value\n",
            "0    A      0\n",
            "1    B      1\n",
            "2    C      2\n",
            "3    A      3\n",
            "\n",
            "Right:\n",
            "  rkey  value\n",
            "0    A      4\n",
            "1    B      5\n",
            "2    D      6\n",
            "3    B      7\n",
            "\n",
            "Merge:\n",
            "  lkey  value_x rkey  value_y\n",
            "0    A        0    A        4\n",
            "1    A        3    A        4\n",
            "2    B        1    B        5\n",
            "3    B        1    B        7\n"
          ]
        }
      ]
    },
    {
      "cell_type": "markdown",
      "source": [
        "Внешнее слияние - используются ключи из объединения списков\n",
        "ключей. Иначе говоря, используются ключи, которые есть хотя бы в одной из\n",
        "таблиц. Если в другой таблице таких ключей нет, то ставятся пропуски."
      ],
      "metadata": {
        "id": "S1ZZQu2_RKYQ"
      }
    },
    {
      "cell_type": "code",
      "source": [
        "import pandas as pd\n",
        "import scipy.stats as sps\n",
        "left = pd.DataFrame({'lkey': ['A', 'B', 'C', 'A'],'value': range(4)})\n",
        "right = pd.DataFrame({'rkey': ['A', 'B', 'D', 'B'],'value': range(4, 8)})\n",
        "print(\"Left:\")\n",
        "print(left)\n",
        "print(\"\\nRight:\")\n",
        "print(right)\n",
        "df=pd.merge(left, right,left_on='lkey', right_on='rkey',how='outer')\n",
        "print(\"Merge:\")\n",
        "print(df)"
      ],
      "metadata": {
        "colab": {
          "base_uri": "https://localhost:8080/"
        },
        "id": "xhx8ASEjRKfS",
        "outputId": "31a14c40-acc7-4d7b-d83b-31832d931d3b"
      },
      "execution_count": 11,
      "outputs": [
        {
          "output_type": "stream",
          "name": "stdout",
          "text": [
            "Left:\n",
            "  lkey  value\n",
            "0    A      0\n",
            "1    B      1\n",
            "2    C      2\n",
            "3    A      3\n",
            "\n",
            "Right:\n",
            "  rkey  value\n",
            "0    A      4\n",
            "1    B      5\n",
            "2    D      6\n",
            "3    B      7\n",
            "Merge:\n",
            "  lkey  value_x rkey  value_y\n",
            "0    A      0.0    A      4.0\n",
            "1    A      3.0    A      4.0\n",
            "2    B      1.0    B      5.0\n",
            "3    B      1.0    B      7.0\n",
            "4    C      2.0  NaN      NaN\n",
            "5  NaN      NaN    D      6.0\n"
          ]
        }
      ]
    },
    {
      "cell_type": "markdown",
      "source": [
        "Объединение по ключам левой таблицы. Не используются ключи,\n",
        "которые есть в правой таблицы, но которых нет в левой. Если в правой\n",
        "таблице каких-то ключей нет, то ставятся пропуски."
      ],
      "metadata": {
        "id": "rDY0Mub6RwbQ"
      }
    },
    {
      "cell_type": "code",
      "source": [
        "import numpy as np\n",
        "import pandas as pd\n",
        "import scipy.stats as sps\n",
        "\n",
        "left = pd.DataFrame({'lkey': ['A', 'B', 'C', 'A'],'value': range(4)})\n",
        "right = pd.DataFrame({'rkey': ['A', 'B', 'D', 'B'],'value': range(4, 8)})\n",
        "print(\"Left:\")\n",
        "print(left)\n",
        "print(\"\\nRight:\")\n",
        "print(right)\n",
        "df=pd.merge(left, right,left_on='lkey', right_on='rkey',how='left')\n",
        "print(\"\\nMerge:\")\n",
        "print(df)"
      ],
      "metadata": {
        "colab": {
          "base_uri": "https://localhost:8080/"
        },
        "id": "4lYKKop1Rwjt",
        "outputId": "61ecce5c-970b-47d0-d560-725c4aea991d"
      },
      "execution_count": 12,
      "outputs": [
        {
          "output_type": "stream",
          "name": "stdout",
          "text": [
            "Left:\n",
            "  lkey  value\n",
            "0    A      0\n",
            "1    B      1\n",
            "2    C      2\n",
            "3    A      3\n",
            "\n",
            "Right:\n",
            "  rkey  value\n",
            "0    A      4\n",
            "1    B      5\n",
            "2    D      6\n",
            "3    B      7\n",
            "\n",
            "Merge:\n",
            "  lkey  value_x rkey  value_y\n",
            "0    A        0    A      4.0\n",
            "1    B        1    B      5.0\n",
            "2    B        1    B      7.0\n",
            "3    C        2  NaN      NaN\n",
            "4    A        3    A      4.0\n"
          ]
        }
      ]
    },
    {
      "cell_type": "markdown",
      "source": [
        "Группировка по одной колонке и последующее применение операции\n",
        "суммирования"
      ],
      "metadata": {
        "id": "DiUG132WSDUL"
      }
    },
    {
      "cell_type": "code",
      "source": [
        "import pandas as pd\n",
        "import scipy.stats as sps\n",
        "\n",
        "df = pd.DataFrame({'Животное':['Котик', 'Песик','Котик', 'Песик','Котик', 'Песик','Котик', 'Песик'], 'Цвет шерсти':['белый','белый','коричневый','черный','коричневый','коричневый','белый','черный'], 'Рост':sps.gamma(a=12,scale=3).rvs(size=8), 'Длина хвостика':sps.gamma(a=10).rvs(size=8)})\n",
        "print(df.groupby('Животные').sum())"
      ],
      "metadata": {
        "id": "o9ZAioMMZGYd"
      },
      "execution_count": null,
      "outputs": []
    },
    {
      "cell_type": "markdown",
      "source": [
        "Посчитаем описательные статистики для каждого животного"
      ],
      "metadata": {
        "id": "XC27SF76ZHOB"
      }
    },
    {
      "cell_type": "code",
      "source": [
        "import pandas as pd\n",
        "import scipy.stats as sps\n",
        "\n",
        "df = pd.DataFrame({'Животное':['Котик', 'Песик','Котик', 'Песик','Котик', 'Песик','Котик', 'Песик'], 'Цвет шерсти':['белый','белый','коричневый','черный','коричневый','коричневый','белый','черный'], 'Рост':sps.gamma(a=12,scale=3).rvs(size=8), 'Длина хвостика':sps.gamma(a=10).rvs(size=8)})\n",
        "print(df.groupby('Животные').describe())"
      ],
      "metadata": {
        "id": "IGpDiXBqeFlV"
      },
      "execution_count": null,
      "outputs": []
    }
  ]
}