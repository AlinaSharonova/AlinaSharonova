{
  "nbformat": 4,
  "nbformat_minor": 0,
  "metadata": {
    "colab": {
      "provenance": [],
      "authorship_tag": "ABX9TyPTfkG3L1ESaxlyZEpi/IAS",
      "include_colab_link": true
    },
    "kernelspec": {
      "name": "python3",
      "display_name": "Python 3"
    },
    "language_info": {
      "name": "python"
    }
  },
  "cells": [
    {
      "cell_type": "markdown",
      "metadata": {
        "id": "view-in-github",
        "colab_type": "text"
      },
      "source": [
        "<a href=\"https://colab.research.google.com/github/AlinaSharonova/AlinaSharonova/blob/master/Matplotlib.ipynb\" target=\"_parent\"><img src=\"https://colab.research.google.com/assets/colab-badge.svg\" alt=\"Open In Colab\"/></a>"
      ]
    },
    {
      "cell_type": "markdown",
      "source": [],
      "metadata": {
        "id": "fm6BP1KXF2me"
      }
    },
    {
      "cell_type": "code",
      "execution_count": null,
      "metadata": {
        "colab": {
          "base_uri": "https://localhost:8080/"
        },
        "id": "Hrq9XREM7w9V",
        "outputId": "dab230c9-f900-4db8-ccfb-2401abda95ea"
      },
      "outputs": [
        {
          "output_type": "stream",
          "name": "stdout",
          "text": [
            "3.2.2\n",
            "module://ipykernel.pylab.backend_inline\n"
          ]
        }
      ],
      "source": [
        "import matplotlib\n",
        "print(matplotlib.__version__)"
      ]
    },
    {
      "cell_type": "markdown",
      "source": [
        "Вывод графика"
      ],
      "metadata": {
        "id": "l269G0OdFvnM"
      }
    },
    {
      "cell_type": "code",
      "source": [
        "import matplotlib.pyplot as plt\n",
        "plt.plot([0, 1, 2, 3], [0, 3, 1, 2])\n",
        "plt.show()"
      ],
      "metadata": {
        "colab": {
          "base_uri": "https://localhost:8080/",
          "height": 265
        },
        "id": "vg2ctlZuC1FN",
        "outputId": "23108f3d-6b95-4b68-b423-f215d98ef852"
      },
      "execution_count": null,
      "outputs": [
        {
          "output_type": "display_data",
          "data": {
            "text/plain": [
              "<Figure size 432x288 with 1 Axes>"
            ],
            "image/png": "[encoded data removed]"
          },
          "metadata": {
            "needs_background": "light"
          }
        }
      ]
    },
    {
      "cell_type": "markdown",
      "source": [
        "Figure - это контейнер самого верхнего уровня, та область на которой все нарисовано. Таких областей может быть несколько, каждая из которых может содержать несколько контейнеров Axes.\n",
        "\n",
        "Axes - это та область на которой чаще всего и отражаются графики (данные в виде графиков), а так же все вспомогательные атрибуты (линии сетки, метки, указатели и т.д.). Часто, установка этой области сопровождается с вызовом subplot, который и помещает Axes на регулярную сетку. Поэтому, так же часто Axes и Subplot можно считать синонимами. Но с тем что это за сетка и как это размещение работает, давайте разберемся чуть ниже.\n",
        "\n",
        "Каждая область Axes содержит XAxis и YAxis. Они содержат, деления, метки и прочие вспомогательные атрибуты. В Этом уроке мы будем контролировать тики, метки и пределы данных через другие механизмы, поэтому подробно рассматривать оси мы не будем."
      ],
      "metadata": {
        "id": "VQ_jUd7EIWZV"
      }
    },
    {
      "cell_type": "markdown",
      "source": [
        "В строке fig = plt.figure() мы создали область Figure (экземпляр класса figure. В строке ax = fig.add_subplot(111) мы добавили к Figure область Axes. Вообще, было бы правильнее использовать fig.add_axes, но в данном случае fig.add_subplot(111) намного удобнее, в конце концов subplot просто размещает Axes на сетке Figure. Обратите внимание на параметр, который мы передаем 111 - это первая строка, первый столбец и первая (единственная) ячейка на сетке Figure."
      ],
      "metadata": {
        "id": "fI35DUBC204K"
      }
    },
    {
      "cell_type": "code",
      "source": [
        "%matplotlib inline\n",
        "import matplotlib.pyplot as plt\n",
        "\n",
        "fig = plt.figure()\n",
        "ax = fig.add_subplot(111)\n",
        "\n",
        "plt.show()"
      ],
      "metadata": {
        "id": "wKc4ymygIZZH",
        "colab": {
          "base_uri": "https://localhost:8080/",
          "height": 269
        },
        "outputId": "2d1c1d70-bd9e-4da1-f344-33d88fa4b968"
      },
      "execution_count": null,
      "outputs": [
        {
          "output_type": "display_data",
          "data": {
            "text/plain": [
              "<Figure size 432x288 with 1 Axes>"
            ],
            "image/png": "[encoded data removed]"
          },
          "metadata": {
            "needs_background": "light"
          }
        }
      ]
    },
    {
      "cell_type": "markdown",
      "source": [
        "В том что Figure и Axes это разные области можно легко убедиться если изменить их цвет:"
      ],
      "metadata": {
        "id": "GfsVebwk3JvV"
      }
    },
    {
      "cell_type": "code",
      "source": [
        "import matplotlib.pyplot as plt\n",
        "\n",
        "fig = plt.figure()\n",
        "ax = fig.add_subplot(111)\n",
        "\n",
        "fig.set_facecolor('grey')\n",
        "\n",
        "ax.set(facecolor = 'pink')\n",
        "\n",
        "plt.show()"
      ],
      "metadata": {
        "colab": {
          "base_uri": "https://localhost:8080/",
          "height": 269
        },
        "id": "s3uVirfV3R_8",
        "outputId": "af6bd34f-93fc-462e-b660-8aafd3e9a2c4"
      },
      "execution_count": null,
      "outputs": [
        {
          "output_type": "display_data",
          "data": {
            "text/plain": [
              "<Figure size 432x288 with 1 Axes>"
            ],
            "image/png": "[encoded data removed]"
          },
          "metadata": {}
        }
      ]
    },
    {
      "cell_type": "markdown",
      "source": [
        " именно Axes вам придется видоизменять чаще всего, поэтому давайте установим побольше параметров для данной области:"
      ],
      "metadata": {
        "id": "Nt4D0xC04X1I"
      }
    },
    {
      "cell_type": "code",
      "source": [
        "import matplotlib.pyplot as plt\n",
        "\n",
        "fig = plt.figure()\n",
        "ax = fig.add_subplot(111)\n",
        "\n",
        "fig.set_facecolor('grey')\n",
        "\n",
        "ax.set_facecolor('pink')\n",
        "ax.set_xlim([-10, 10])\n",
        "ax.set_ylim([-2, 2])\n",
        "ax.set_title('Основы анатомии matplotlib')\n",
        "ax.set_xlabel('ось абцис (XAxis)')\n",
        "ax.set_ylabel('ось ординат (YAxis)')\n",
        "\n",
        "plt.show()"
      ],
      "metadata": {
        "colab": {
          "base_uri": "https://localhost:8080/",
          "height": 295
        },
        "id": "4lSf96wb4YfO",
        "outputId": "0c92ab46-8582-4fb4-9064-cf159838ded7"
      },
      "execution_count": null,
      "outputs": [
        {
          "output_type": "display_data",
          "data": {
            "text/plain": [
              "<Figure size 432x288 with 1 Axes>"
            ],
            "image/png": "[encoded data removed]"
          },
          "metadata": {}
        }
      ]
    },
    {
      "cell_type": "markdown",
      "source": [
        "Хотя мы могли бы выполнить это более коротким способом:"
      ],
      "metadata": {
        "id": "L6etiPa540q9"
      }
    },
    {
      "cell_type": "code",
      "source": [
        "import matplotlib.pyplot as plt\n",
        "\n",
        "fig = plt.figure()\n",
        "ax = fig.add_subplot(111)\n",
        "\n",
        "fig.set(facecolor = 'grey')\n",
        "ax.set(facecolor = 'pink',\n",
        "       xlim = [-10, 10],\n",
        "       ylim = [-2, 2],\n",
        "       title = 'Основы анатомии matplotlib',\n",
        "       xlabel = 'ось абцис (XAxis)',\n",
        "       ylabel = 'ось ординат (YAxis)')\n",
        "\n",
        "plt.show()"
      ],
      "metadata": {
        "colab": {
          "base_uri": "https://localhost:8080/",
          "height": 295
        },
        "id": "LbO_3IQ245OV",
        "outputId": "82820ffb-1038-4696-f093-db08008cf547"
      },
      "execution_count": null,
      "outputs": [
        {
          "output_type": "display_data",
          "data": {
            "text/plain": [
              "<Figure size 432x288 with 1 Axes>"
            ],
            "image/png": "[encoded data removed]"
          },
          "metadata": {}
        }
      ]
    },
    {
      "cell_type": "markdown",
      "source": [
        "Метод set есть практически у всех объектов matplotlib. Например, нам вдруг захотелось изменить цвет и размер title. Для этого существуют так же два способа:"
      ],
      "metadata": {
        "id": "DdJhcHIk5XA2"
      }
    },
    {
      "cell_type": "code",
      "source": [
        "#  Способ №1:\n",
        "ax.set_title('Основы анатомии matplotlib', color = 'white', size = 20)\n",
        "\n",
        "#  Способ №2:\n",
        "ax.set_title('Основы анатомии matplotlib')\n",
        "ax.title.set_color('white')\n",
        "ax.title.set_size(20)"
      ],
      "metadata": {
        "id": "8xgZkTJ_56gl"
      },
      "execution_count": null,
      "outputs": []
    },
    {
      "cell_type": "markdown",
      "source": [
        "для рисования на Axes необходимо использовать какой-нибудь из его методов. К слову сказать, этих методов целая куча, но мы сосредоточимся всего на двух: plot и scatter.\n",
        "\n",
        "plot рисует точки соединенные линиями;\n",
        "scatter просто рисует точки\n",
        "Давайте построим простой график на котором будет присутствовать отображение одних данных точками, а других линиями:"
      ],
      "metadata": {
        "id": "Bkdw2B9u6Qo9"
      }
    },
    {
      "cell_type": "code",
      "source": [
        "import matplotlib.pyplot as plt\n",
        "\n",
        "fig = plt.figure()\n",
        "ax = fig.add_subplot(111)\n",
        "ax.plot([0, 1, 2, 3, 4], [0, 6, 7, 15, 19])\n",
        "ax.scatter([0, 1, 2, 3, 4], [1, 3, 8, 12, 27])\n",
        "\n",
        "plt.show()"
      ],
      "metadata": {
        "colab": {
          "base_uri": "https://localhost:8080/",
          "height": 265
        },
        "id": "aXDnoj1P6300",
        "outputId": "5d994a6d-72d6-48a6-e689-f10f82168b6e"
      },
      "execution_count": null,
      "outputs": [
        {
          "output_type": "display_data",
          "data": {
            "text/plain": [
              "<Figure size 432x288 with 1 Axes>"
            ],
            "image/png": "[encoded data removed]"
          },
          "metadata": {
            "needs_background": "light"
          }
        }
      ]
    },
    {
      "cell_type": "markdown",
      "source": [
        "Нарисованные данные так же поддерживают самые разные параметры внешнего вида:"
      ],
      "metadata": {
        "id": "AQ8q-wAX7Bjc"
      }
    },
    {
      "cell_type": "code",
      "source": [
        "import matplotlib.pyplot as plt\n",
        "\n",
        "fig = plt.figure()\n",
        "ax = fig.add_subplot(111)\n",
        "ax.plot([0, 1, 2, 3, 4], [0, 6, 7, 15, 19], color = 'black', linewidth = 5)\n",
        "ax.scatter([0, 1, 2, 3, 4], [1, 3, 8, 12, 27], color = 'blue', marker = '*')\n",
        "\n",
        "plt.show()"
      ],
      "metadata": {
        "colab": {
          "base_uri": "https://localhost:8080/",
          "height": 265
        },
        "id": "lZ557SEr7QCM",
        "outputId": "2acb31be-3ac6-4329-8b1d-562755be1edf"
      },
      "execution_count": null,
      "outputs": [
        {
          "output_type": "display_data",
          "data": {
            "text/plain": [
              "<Figure size 432x288 with 1 Axes>"
            ],
            "image/png": "[encoded data removed]"
          },
          "metadata": {
            "needs_background": "light"
          }
        }
      ]
    },
    {
      "cell_type": "markdown",
      "source": [
        "Параметры внешнего вида придется указывать (если надо) вместе с данными внутри ax.plot() и ax.scatter(). Это противоречит моим рекомендациям, но и в этом случае можно оформить код в более читаемый вид:"
      ],
      "metadata": {
        "id": "4vzpY8mZ7UlM"
      }
    },
    {
      "cell_type": "code",
      "source": [
        "import matplotlib.pyplot as plt\n",
        "\n",
        "x = [0, 1, 2, 3, 4]\n",
        "y_1 = [0, 6, 7, 15, 19]\n",
        "y_2 = [1, 3, 8, 12, 27]\n",
        "\n",
        "fig = plt.figure()\n",
        "ax = fig.add_subplot(111)\n",
        "\n",
        "ax.plot(x, y_1,\n",
        "        color = 'black',\n",
        "        linewidth = 5)\n",
        "\n",
        "ax.scatter(x, y_2,\n",
        "           color = 'blue',\n",
        "           marker = '*')\n",
        "\n",
        "plt.show()"
      ],
      "metadata": {
        "colab": {
          "base_uri": "https://localhost:8080/",
          "height": 265
        },
        "id": "jMYe2jLF7fe8",
        "outputId": "fd2b9ed5-be71-4c38-8a04-7128b4e7a91f"
      },
      "execution_count": null,
      "outputs": [
        {
          "output_type": "display_data",
          "data": {
            "text/plain": [
              "<Figure size 432x288 with 1 Axes>"
            ],
            "image/png": "[encoded data removed]"
          },
          "metadata": {
            "needs_background": "light"
          }
        }
      ]
    },
    {
      "cell_type": "markdown",
      "source": [
        "раньше создавали графики без всяких Figure и Axes. Дело в том что почти все методы axes присутствуют в модуле pyplot. Например, при вызове plt.title('spam') модуль pyplot вызывает ax.set_title('spam'). "
      ],
      "metadata": {
        "id": "yotdydRb7gUz"
      }
    },
    {
      "cell_type": "code",
      "source": [
        "import matplotlib.pyplot as plt\n",
        "\n",
        "\n",
        "plt.plot([0, 1, 2, 3, 4], [0, 6, 7, 15, 19], linewidth = 3)\n",
        "plt.scatter([0, 1, 2, 3, 4], [1, 3, 8, 12, 27], color = 'orange')\n",
        "\n",
        "plt.show()"
      ],
      "metadata": {
        "colab": {
          "base_uri": "https://localhost:8080/",
          "height": 265
        },
        "id": "mV2rT5LB88AS",
        "outputId": "f53bd584-2a77-4124-8f5c-07b9f216d1e5"
      },
      "execution_count": null,
      "outputs": [
        {
          "output_type": "display_data",
          "data": {
            "text/plain": [
              "<Figure size 432x288 with 1 Axes>"
            ],
            "image/png": "[encoded data removed]"
          },
          "metadata": {
            "needs_background": "light"
          }
        }
      ]
    },
    {
      "cell_type": "markdown",
      "source": [
        "Пример расположения нескольких графиков\n",
        "В этом примере, так же как и раньше, мы сначала создали область Figure, а затем с помощью команды fig.add_subplot() начали добавлять, одну за другой область Axes (ax_1, ax_2, ax_3, ax_4). Причем заметьте, каждая область Axes является независимой от других, то есть на на них могут быть нарисованы самые разные графики и установлены самые разные параметры внешнего вида."
      ],
      "metadata": {
        "id": "619XBvRw8-Ra"
      }
    },
    {
      "cell_type": "code",
      "source": [
        "import matplotlib.pyplot as plt\n",
        "\n",
        "fig = plt.figure()\n",
        "\n",
        "ax_1 = fig.add_subplot(2, 2, 1)\n",
        "ax_2 = fig.add_subplot(2, 2, 2)\n",
        "ax_3 = fig.add_subplot(2, 2, 3)\n",
        "ax_4 = fig.add_subplot(2, 2, 4)\n",
        "\n",
        "ax_1.set(title = 'ax_1', xticks=[], yticks=[])\n",
        "ax_2.set(title = 'ax_2', xticks=[], yticks=[])\n",
        "ax_3.set(title = 'ax_3', xticks=[], yticks=[])\n",
        "ax_4.set(title = 'ax_4', xticks=[], yticks=[])\n",
        "\n",
        "plt.show()"
      ],
      "metadata": {
        "colab": {
          "base_uri": "https://localhost:8080/",
          "height": 268
        },
        "id": "wbIA-HpD9dB1",
        "outputId": "2d3ba686-a9fe-4918-cc3d-c3dd8b1817c3"
      },
      "execution_count": null,
      "outputs": [
        {
          "output_type": "display_data",
          "data": {
            "text/plain": [
              "<Figure size 432x288 with 4 Axes>"
            ],
            "image/png": "[encoded data removed]"
          },
          "metadata": {}
        }
      ]
    },
    {
      "cell_type": "markdown",
      "source": [
        "Теперь давайте немного разберемся с тем что делает метод add_subplot(). А делает он следующее, разбивает Figure на указанное количество строк и столбцов. После такого разбиения Figure можно представить как таблицу (или координатную сетку). Затем область Axes помещается в указанную ячейку. Для всего этого add_subplot() необходимо всего три числа, которые мы и передаем ему в качестве параметров:\n",
        "\n",
        "первое - количество строк;\n",
        "второе - количество столбцов\n",
        "третье - индекс ячейки.\n",
        "Индексирование полученных ячеек начинается с левого верхнего угла, выполняется построчно слева-направо и заканчивается в правом нижнем углу:"
      ],
      "metadata": {
        "id": "TRHzy9PG9fsN"
      }
    },
    {
      "cell_type": "code",
      "source": [
        "import matplotlib.pyplot as plt\n",
        "\n",
        "fig = plt.figure()\n",
        "\n",
        "ax_1 = fig.add_subplot(3, 2, 1)\n",
        "ax_2 = fig.add_subplot(3, 2, 2)\n",
        "ax_3 = fig.add_subplot(3, 2, 3)\n",
        "ax_4 = fig.add_subplot(3, 2, 4)\n",
        "ax_5 = fig.add_subplot(3, 2, 5)\n",
        "ax_6 = fig.add_subplot(3, 2, 6)\n",
        "\n",
        "ax_1.set(title = 'ax_1', xticks=[], yticks=[])\n",
        "ax_2.set(title = 'ax_2', xticks=[], yticks=[])\n",
        "ax_3.set(title = 'ax_3', xticks=[], yticks=[])\n",
        "ax_4.set(title = 'ax_4', xticks=[], yticks=[])\n",
        "ax_5.set(title = 'ax_5', xticks=[], yticks=[])\n",
        "ax_6.set(title = 'ax_6', xticks=[], yticks=[])\n",
        "\n",
        "plt.show()"
      ],
      "metadata": {
        "colab": {
          "base_uri": "https://localhost:8080/",
          "height": 268
        },
        "id": "-rixclrx_TbE",
        "outputId": "85cb9d4f-a305-4c88-acf3-b68b0ab60f4c"
      },
      "execution_count": null,
      "outputs": [
        {
          "output_type": "display_data",
          "data": {
            "text/plain": [
              "<Figure size 432x288 with 6 Axes>"
            ],
            "image/png": "[encoded data removed]"
          },
          "metadata": {}
        }
      ]
    },
    {
      "cell_type": "markdown",
      "source": [
        "Заполнять областями Axes всю область Figure не обязательно:"
      ],
      "metadata": {
        "id": "5-M1w657_Y-0"
      }
    },
    {
      "cell_type": "code",
      "source": [
        "import matplotlib.pyplot as plt\n",
        "\n",
        "fig = plt.figure()\n",
        "\n",
        "ax_1 = fig.add_subplot(3, 2, 1)\n",
        "ax_2 = fig.add_subplot(3, 2, 4)\n",
        "ax_3 = fig.add_subplot(3, 2, 5)\n",
        "\n",
        "ax_1.set(title = 'ax_1', xticks=[], yticks=[])\n",
        "ax_2.set(title = 'ax_2', xticks=[], yticks=[])\n",
        "ax_3.set(title = 'ax_3', xticks=[], yticks=[])\n",
        "\n",
        "plt.show()"
      ],
      "metadata": {
        "colab": {
          "base_uri": "https://localhost:8080/",
          "height": 268
        },
        "id": "SOOBmCqs_cAs",
        "outputId": "dc9c14c7-1bbe-4958-c680-f32f7cd04d97"
      },
      "execution_count": null,
      "outputs": [
        {
          "output_type": "display_data",
          "data": {
            "text/plain": [
              "<Figure size 432x288 with 3 Axes>"
            ],
            "image/png": "[encoded data removed]"
          },
          "metadata": {}
        }
      ]
    },
    {
      "cell_type": "markdown",
      "source": [
        "Каждый отдельный вызов add_subplot() выполняет разбивку Figure, так как как указано в его параметрах и не зависит от предыдущих разбиений:"
      ],
      "metadata": {
        "id": "59k3af7f_gcl"
      }
    },
    {
      "cell_type": "code",
      "source": [
        "import matplotlib.pyplot as plt\n",
        "\n",
        "fig = plt.figure()\n",
        "\n",
        "ax_1 = fig.add_subplot(3, 1, 1)\n",
        "ax_2 = fig.add_subplot(3, 2, 4)\n",
        "ax_3 = fig.add_subplot(3, 3, 9)\n",
        "\n",
        "ax_1.set(title = 'ax_1', xticks=[], yticks=[])\n",
        "ax_2.set(title = 'ax_2', xticks=[], yticks=[])\n",
        "ax_3.set(title = 'ax_3', xticks=[], yticks=[])\n",
        "\n",
        "plt.show()"
      ],
      "metadata": {
        "colab": {
          "base_uri": "https://localhost:8080/",
          "height": 268
        },
        "id": "kDTmn0Sk_g01",
        "outputId": "76ab1ccb-84f2-4bb5-a1e5-d791726135e1"
      },
      "execution_count": null,
      "outputs": [
        {
          "output_type": "display_data",
          "data": {
            "text/plain": [
              "<Figure size 432x288 with 3 Axes>"
            ],
            "image/png": "[encoded data removed]"
          },
          "metadata": {}
        }
      ]
    },
    {
      "cell_type": "markdown",
      "source": [
        "Такое поведение метода add_subplot() позволяет располагать графики как вам необходимо. Области Axes могут перекрывать друг-друга, быть разного размера или разделенными некоторым пространством, впрочем, как и размещаться в произвольных местах:"
      ],
      "metadata": {
        "id": "woTv9RA-_nI9"
      }
    },
    {
      "cell_type": "code",
      "source": [
        "import matplotlib.pyplot as plt\n",
        "\n",
        "fig = plt.figure()\n",
        "\n",
        "ax_1 = fig.add_subplot(3, 1, 1)\n",
        "ax_2 = fig.add_subplot(6, 3, 3)\n",
        "ax_3 = fig.add_subplot(3, 3, 4)\n",
        "ax_4 = fig.add_subplot(3, 3, 6)\n",
        "ax_5 = fig.add_subplot(3, 4, 10)\n",
        "ax_6 = fig.add_subplot(5, 5, 25)\n",
        "\n",
        "ax_1.set(title = 'ax_1', xticks=[], yticks=[])\n",
        "ax_2.set(title = 'ax_2', xticks=[], yticks=[])\n",
        "ax_3.set(title = 'ax_3', xticks=[], yticks=[])\n",
        "ax_4.set(title = 'ax_4', xticks=[], yticks=[])\n",
        "ax_5.set(title = 'ax_5', xticks=[], yticks=[])\n",
        "ax_6.set(title = 'ax_6', xticks=[], yticks=[])\n",
        "\n",
        "plt.show()"
      ],
      "metadata": {
        "colab": {
          "base_uri": "https://localhost:8080/",
          "height": 268
        },
        "id": "ROryllCW_oqU",
        "outputId": "34e5307c-2692-48a8-88a9-a7f9dc24739c"
      },
      "execution_count": null,
      "outputs": [
        {
          "output_type": "display_data",
          "data": {
            "text/plain": [
              "<Figure size 432x288 with 6 Axes>"
            ],
            "image/png": "[encoded data removed]"
          },
          "metadata": {}
        }
      ]
    },
    {
      "cell_type": "markdown",
      "source": [
        "Конечно, такой способ размещения некоторого количества областей Axes на Figure довольно гибок, но на практике функция plt.subplots(nrows, ncols) оказывается гораздо удобнее:"
      ],
      "metadata": {
        "id": "7VqoObvD_209"
      }
    },
    {
      "cell_type": "code",
      "source": [
        "import matplotlib.pyplot as plt\n",
        "\n",
        "fig, axes = plt.subplots(nrows = 2, ncols =2 )\n",
        "\n",
        "axes[0,0].set(title='axes[0,0]')\n",
        "axes[0,1].set(title='axes[0,1]')\n",
        "axes[1,0].set(title='axes[1,0]')\n",
        "axes[1,1].set(title='axes[1,1]')\n",
        "\n",
        "for ax in axes.flat:\n",
        "    ax.set(xticks=[], yticks=[])\n",
        "    \n",
        "plt.show()\n"
      ],
      "metadata": {
        "colab": {
          "base_uri": "https://localhost:8080/",
          "height": 268
        },
        "id": "4iOnizQt_-Fe",
        "outputId": "e9629bff-65dd-42b7-b4c1-3139a0f1752e"
      },
      "execution_count": null,
      "outputs": [
        {
          "output_type": "display_data",
          "data": {
            "text/plain": [
              "<Figure size 432x288 with 4 Axes>"
            ],
            "image/png": "[encoded data removed]"
          },
          "metadata": {}
        }
      ]
    },
    {
      "cell_type": "markdown",
      "source": [
        "Очень часто нам нужно что бы наши области Axes были расположены на самой обычной сетке. Что в общем то и делает plt.subplots(nrows, ncols). Однако не следует забывать, что как правило, все чуточку сложнее. Давайте выполним следующий код:"
      ],
      "metadata": {
        "id": "4XgtKyH_AERe"
      }
    },
    {
      "cell_type": "code",
      "source": [
        "print(plt.subplots(nrows = 2, ncols = 2))"
      ],
      "metadata": {
        "colab": {
          "base_uri": "https://localhost:8080/",
          "height": 361
        },
        "id": "CXIbPnIUAEqG",
        "outputId": "9dfdcc5b-bd02-4b24-8c1b-13ef62965183"
      },
      "execution_count": null,
      "outputs": [
        {
          "output_type": "stream",
          "name": "stdout",
          "text": [
            "(<Figure size 432x288 with 4 Axes>, array([[<matplotlib.axes._subplots.AxesSubplot object at 0x7fa329dc3e50>,\n",
            "        <matplotlib.axes._subplots.AxesSubplot object at 0x7fa329d82a90>],\n",
            "       [<matplotlib.axes._subplots.AxesSubplot object at 0x7fa329d31bd0>,\n",
            "        <matplotlib.axes._subplots.AxesSubplot object at 0x7fa329cfe410>]],\n",
            "      dtype=object))\n"
          ]
        },
        {
          "output_type": "display_data",
          "data": {
            "text/plain": [
              "<Figure size 432x288 with 4 Axes>"
            ],
            "image/png": "[encoded data removed]"
          },
          "metadata": {
            "needs_background": "light"
          }
        }
      ]
    },
    {
      "cell_type": "markdown",
      "source": [
        "Если вглядеться в вывод, то становится видно, что plt.subplots(nrows, ncols) создает кортеж из двух элементов:\n",
        "\n",
        "Область Figure;\n",
        "Массив объектов NumPy, состоящий из двух строк и двух столбцов. Каждый элемент этого массива представляет собой отдельную область Axes, к которой можно обратиться по ее индексу в данном массиве.\n",
        "Для дальнейшей работы с данными областями нам необходимо распаковать данный кортеж, что мы и делаем в строке:"
      ],
      "metadata": {
        "id": "YB6eaosEANvo"
      }
    },
    {
      "cell_type": "code",
      "source": [
        "fig, axes = plt.subplots(nrows = 2, ncols = 2)"
      ],
      "metadata": {
        "colab": {
          "base_uri": "https://localhost:8080/",
          "height": 269
        },
        "id": "H0WbM756AOWH",
        "outputId": "0956ada2-238b-4772-f54e-9933fa5b22c5"
      },
      "execution_count": null,
      "outputs": [
        {
          "output_type": "display_data",
          "data": {
            "text/plain": [
              "<Figure size 432x288 with 4 Axes>"
            ],
            "image/png": "[encoded data removed]"
          },
          "metadata": {
            "needs_background": "light"
          }
        }
      ]
    },
    {
      "cell_type": "markdown",
      "source": [
        "Теперь fig - это Figure, а axes - это массив NumPy, элементами которого являются объекты Axes. Далее, мы решили установить каждой области Axes свой заголовок:"
      ],
      "metadata": {
        "id": "9y_jRk61ATdf"
      }
    },
    {
      "cell_type": "code",
      "source": [
        "axes[0, 0].set(title='axes[0, 0]')\n",
        "axes[0, 1].set(title='axes[0, 1]')\n",
        "axes[1, 0].set(title='axes[1, 0]')\n",
        "axes[1, 1].set(title='axes[1, 1]')"
      ],
      "metadata": {
        "colab": {
          "base_uri": "https://localhost:8080/"
        },
        "id": "eU4vhYpSAU2A",
        "outputId": "364be39b-e736-48f9-b626-a0847e48cbec"
      },
      "execution_count": null,
      "outputs": [
        {
          "output_type": "execute_result",
          "data": {
            "text/plain": [
              "[Text(0.5, 1.0, 'axes[1, 1]')]"
            ]
          },
          "metadata": {},
          "execution_count": 25
        }
      ]
    },
    {
      "cell_type": "markdown",
      "source": [
        " зачастую, даже заголовки можно установить в том же самом цикле:"
      ],
      "metadata": {
        "id": "lWzyahl6AeAy"
      }
    },
    {
      "cell_type": "code",
      "source": [
        "import numpy as np\n",
        "import matplotlib.pyplot as plt\n",
        "\n",
        "fig, axes = plt.subplots(nrows=3, ncols=3)\n",
        "\n",
        "n = 1\n",
        "\n",
        "for ax in axes.flat:\n",
        "    ax.set(title='axes_' + str(n), xticks=[], yticks=[])\n",
        "    n += 1\n",
        "plt.show()"
      ],
      "metadata": {
        "colab": {
          "base_uri": "https://localhost:8080/",
          "height": 268
        },
        "id": "mzHnXBTOAfn6",
        "outputId": "41f61602-80f3-4698-cf20-6a9c45765ac7"
      },
      "execution_count": null,
      "outputs": [
        {
          "output_type": "display_data",
          "data": {
            "text/plain": [
              "<Figure size 432x288 with 9 Axes>"
            ],
            "image/png": "[encoded data removed]"
          },
          "metadata": {}
        }
      ]
    },
    {
      "cell_type": "markdown",
      "source": [
        "По умолчанию количество строк и столбцов в методе subplots равно 1, что удобно для быстрого создания Figure с одной областью Axes:\n",
        "\n",
        "мы по прежнему создаем Figure и помещаем на нее Axes"
      ],
      "metadata": {
        "id": "pgAGXa5VAlvq"
      }
    },
    {
      "cell_type": "code",
      "source": [
        "import matplotlib.pyplot as plt\n",
        "\n",
        "fig, ax = plt.subplots()       #  одна строка вместо двух:\n",
        "                               #  fig = plt.figure()\n",
        "                               #  ax = fig.add_subplot(111)\n",
        "ax.set(title='Axes')\n",
        "    \n",
        "plt.show()"
      ],
      "metadata": {
        "colab": {
          "base_uri": "https://localhost:8080/",
          "height": 281
        },
        "id": "PGY4NhWPAqGR",
        "outputId": "0cd65ec0-4b7d-493b-bbe2-2a4f7da00f0b"
      },
      "execution_count": null,
      "outputs": [
        {
          "output_type": "display_data",
          "data": {
            "text/plain": [
              "<Figure size 432x288 with 1 Axes>"
            ],
            "image/png": "[encoded data removed]"
          },
          "metadata": {
            "needs_background": "light"
          }
        }
      ]
    }
  ]
}