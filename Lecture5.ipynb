{
  "nbformat": 4,
  "nbformat_minor": 0,
  "metadata": {
    "colab": {
      "provenance": [],
      "authorship_tag": "ABX9TyOClLnidBWfmSpb/vSAisx4",
      "include_colab_link": true
    },
    "kernelspec": {
      "name": "python3",
      "display_name": "Python 3"
    },
    "language_info": {
      "name": "python"
    }
  },
  "cells": [
    {
      "cell_type": "markdown",
      "metadata": {
        "id": "view-in-github",
        "colab_type": "text"
      },
      "source": [
        "<a href=\"https://colab.research.google.com/github/AlinaSharonova/AlinaSharonova/blob/master/Lecture5.ipynb\" target=\"_parent\"><img src=\"https://colab.research.google.com/assets/colab-badge.svg\" alt=\"Open In Colab\"/></a>"
      ]
    },
    {
      "cell_type": "markdown",
      "source": [
        "Вывод одномерного массива Pandas Series"
      ],
      "metadata": {
        "id": "sRSBlDh3i89T"
      }
    },
    {
      "cell_type": "code",
      "execution_count": null,
      "metadata": {
        "colab": {
          "base_uri": "https://localhost:8080/"
        },
        "id": "QbP3ZYlKh7MC",
        "outputId": "223cfd77-4535-47b9-e202-46df779df4ff"
      },
      "outputs": [
        {
          "output_type": "stream",
          "name": "stdout",
          "text": [
            "0     5\n",
            "1     6\n",
            "2     7\n",
            "3     8\n",
            "4     9\n",
            "5    10\n",
            "6    11\n",
            "7    12\n",
            "dtype: int64\n"
          ]
        }
      ],
      "source": [
        "import numpy as np\n",
        "import pandas as pd\n",
        "my_serias=pd.Series([5,6,7,8,9,10,11,12])\n",
        "print(my_serias)"
      ]
    },
    {
      "cell_type": "markdown",
      "source": [
        "Вывод одномерного массива Pandas Series с буквенным индексом"
      ],
      "metadata": {
        "id": "_HuQyfigjMnC"
      }
    },
    {
      "cell_type": "code",
      "source": [
        "import numpy as np\n",
        "import pandas as pd\n",
        "my_serias=pd.Series([5,6,7,8,9,10,11,12], index=['a','b', 'c', 'd','e', 'f', 'g','h'])\n",
        "print(my_serias)"
      ],
      "metadata": {
        "colab": {
          "base_uri": "https://localhost:8080/"
        },
        "id": "q7dv63N8kmQW",
        "outputId": "ff751c17-e168-4b39-d504-e9d991c4cb46"
      },
      "execution_count": null,
      "outputs": [
        {
          "output_type": "stream",
          "name": "stdout",
          "text": [
            "a     5\n",
            "b     6\n",
            "c     7\n",
            "d     8\n",
            "e     9\n",
            "f    10\n",
            "g    11\n",
            "h    12\n",
            "dtype: int64\n"
          ]
        }
      ]
    },
    {
      "cell_type": "markdown",
      "source": [
        "Присвоение элементам под определенными индексами одного значения"
      ],
      "metadata": {
        "id": "CiMxx709k9om"
      }
    },
    {
      "cell_type": "code",
      "source": [
        "import numpy as np\n",
        "import pandas as pd\n",
        "my_serias=pd.Series([5,6,7,8,9,10,11,12], index=['a','b', 'c', 'd','e', 'f', 'g','h'])\n",
        "my_serias[['a','b','f','h']]=0\n",
        "print(my_serias)"
      ],
      "metadata": {
        "colab": {
          "base_uri": "https://localhost:8080/"
        },
        "id": "ovFmoFVdk911",
        "outputId": "e976ca54-fb8e-444b-aa1b-91bea8ee2231"
      },
      "execution_count": null,
      "outputs": [
        {
          "output_type": "stream",
          "name": "stdout",
          "text": [
            "a     0\n",
            "b     0\n",
            "c     7\n",
            "d     8\n",
            "e     9\n",
            "f     0\n",
            "g    11\n",
            "h     0\n",
            "dtype: int64\n"
          ]
        }
      ]
    },
    {
      "cell_type": "markdown",
      "source": [
        "Вывод элементов под определенными индексами"
      ],
      "metadata": {
        "id": "2GUh_KIRl7kA"
      }
    },
    {
      "cell_type": "code",
      "source": [
        "import numpy as np\n",
        "import pandas as pd\n",
        "my_serias=pd.Series([5,6,7,8,9,10,11,12], index=['a','b', 'c', 'd','e', 'f', 'g','h'])\n",
        "print(my_serias[['a','b','f','h']])"
      ],
      "metadata": {
        "colab": {
          "base_uri": "https://localhost:8080/"
        },
        "id": "Vdb6luJIl7p_",
        "outputId": "460d041c-9800-419e-bfe0-af5b87bda55d"
      },
      "execution_count": null,
      "outputs": [
        {
          "output_type": "stream",
          "name": "stdout",
          "text": [
            "a     5\n",
            "b     6\n",
            "f    10\n",
            "h    12\n",
            "dtype: int64\n"
          ]
        }
      ]
    },
    {
      "cell_type": "markdown",
      "source": [
        "Поиск пропусков"
      ],
      "metadata": {
        "id": "u9XufYacmP2k"
      }
    },
    {
      "cell_type": "code",
      "source": [
        "import numpy as np\n",
        "import pandas as pd\n",
        "l = [1, 3, 5, np.nan, 6, 8]\n",
        "my_series = pd.Series(l)\n",
        "print(my_series)\n",
        "print('Isna')\n",
        "print(my_series.isna())"
      ],
      "metadata": {
        "colab": {
          "base_uri": "https://localhost:8080/"
        },
        "id": "bFl0yoYHmP8z",
        "outputId": "2591e654-a536-4aaf-8e2d-559260cd3da2"
      },
      "execution_count": null,
      "outputs": [
        {
          "output_type": "stream",
          "name": "stdout",
          "text": [
            "0    1.0\n",
            "1    3.0\n",
            "2    5.0\n",
            "3    NaN\n",
            "4    6.0\n",
            "5    8.0\n",
            "dtype: float64\n",
            "Isna\n",
            "0    False\n",
            "1    False\n",
            "2    False\n",
            "3     True\n",
            "4    False\n",
            "5    False\n",
            "dtype: bool\n"
          ]
        }
      ]
    },
    {
      "cell_type": "markdown",
      "source": [
        "Сложение двух массивов\n",
        "В сумме s1+s2 складываются данные с одинаковыми индексами.\n",
        "Поскольку в s1 нет данного и индексом 0, а в s2 — с индексом 5, в s1+s2 в\n",
        "соответствующих позициях будет NaN."
      ],
      "metadata": {
        "id": "Xh2TSNd1mwFS"
      }
    },
    {
      "cell_type": "code",
      "source": [
        "import numpy as np\n",
        "import pandas as pd\n",
        "l = [1, 3, 5, np.nan, 6, 8]\n",
        "my_series = pd.Series(l)\n",
        "my_series1 = my_series[1:]\n",
        "my_series2=my_series[:-1]\n",
        "print(my_series1+my_series2)"
      ],
      "metadata": {
        "colab": {
          "base_uri": "https://localhost:8080/"
        },
        "id": "qeU4mjqfmwLT",
        "outputId": "59b05662-7f36-4d7d-b7cc-4b90dcf50eb3"
      },
      "execution_count": null,
      "outputs": [
        {
          "output_type": "stream",
          "name": "stdout",
          "text": [
            "0     NaN\n",
            "1     6.0\n",
            "2    10.0\n",
            "3     NaN\n",
            "4    12.0\n",
            "5     NaN\n",
            "dtype: float64\n"
          ]
        }
      ]
    },
    {
      "cell_type": "markdown",
      "source": [
        "создавать наборы данных с индексом, заданным списком."
      ],
      "metadata": {
        "id": "AIJQGGtJnY96"
      }
    },
    {
      "cell_type": "code",
      "source": [
        "import numpy as np\n",
        "import pandas as pd\n",
        "l = [1, 3, 5, np.nan, 6, 8]\n",
        "i = list('abcdef')\n",
        "my_series = pd.Series(l, index=i)\n",
        "print(my_series)\n",
        "print(my_series['c'])"
      ],
      "metadata": {
        "colab": {
          "base_uri": "https://localhost:8080/"
        },
        "id": "Vxv4hPGCnZEK",
        "outputId": "792c4730-7005-4c40-dd34-9d264faea4cf"
      },
      "execution_count": null,
      "outputs": [
        {
          "output_type": "stream",
          "name": "stdout",
          "text": [
            "a    1.0\n",
            "b    3.0\n",
            "c    5.0\n",
            "d    NaN\n",
            "e    6.0\n",
            "f    8.0\n",
            "dtype: float64\n",
            "5.0\n"
          ]
        }
      ]
    },
    {
      "cell_type": "markdown",
      "source": [
        "отсортировать набор данных."
      ],
      "metadata": {
        "id": "tIO8T9oenltJ"
      }
    },
    {
      "cell_type": "code",
      "source": [
        "import pandas as pd\n",
        "my_series = pd.Series({'a':1, 'b':2, 'c':0})\n",
        "print(my_series.sort_values())"
      ],
      "metadata": {
        "colab": {
          "base_uri": "https://localhost:8080/"
        },
        "id": "cxm-9c_4nlyZ",
        "outputId": "1f310f35-99a5-4653-c457-13c4f4d2844c"
      },
      "execution_count": null,
      "outputs": [
        {
          "output_type": "stream",
          "name": "stdout",
          "text": [
            "c    0\n",
            "a    1\n",
            "b    2\n",
            "dtype: int64\n"
          ]
        }
      ]
    },
    {
      "cell_type": "markdown",
      "source": [
        "Кумулятивные максимумы — от первого элемента до текущего. Первое\n",
        "значение кумулятивного максимума совпадает с первым значением\n",
        "исходного массива. Далее значение k-го элемента есть максимум среди\n",
        "элементов до k-го включительно."
      ],
      "metadata": {
        "id": "Been9YHCn-Lo"
      }
    },
    {
      "cell_type": "code",
      "source": [
        "import pandas as pd\n",
        "s=pd.Series({'a':1,'b':2,'c':0})\n",
        "print(s.cummax())"
      ],
      "metadata": {
        "colab": {
          "base_uri": "https://localhost:8080/"
        },
        "id": "R3mawUccn-Ri",
        "outputId": "79be9fba-4ffe-4566-d582-47d913857be6"
      },
      "execution_count": null,
      "outputs": [
        {
          "output_type": "stream",
          "name": "stdout",
          "text": [
            "a    1\n",
            "b    2\n",
            "c    2\n",
            "dtype: int64\n"
          ]
        }
      ]
    },
    {
      "cell_type": "markdown",
      "source": [
        "Кумулятивные суммы. Первое значение кумулятивной суммы\n",
        "совпадает с первым значением исходного массива. Далее значение k-го\n",
        "элемента есть сумма элементов до k-го включительно."
      ],
      "metadata": {
        "id": "-EoNtRphpI7-"
      }
    },
    {
      "cell_type": "code",
      "source": [
        "import pandas as pd\n",
        "s=pd.Series({'a':1,'b':2,'c':0})\n",
        "print(s.cumsum())"
      ],
      "metadata": {
        "colab": {
          "base_uri": "https://localhost:8080/"
        },
        "id": "f_V0xRimpJDG",
        "outputId": "3eddcf56-0cb1-4076-d7f7-0bc272f93725"
      },
      "execution_count": null,
      "outputs": [
        {
          "output_type": "stream",
          "name": "stdout",
          "text": [
            "a    1\n",
            "b    3\n",
            "c    3\n",
            "dtype: int64\n"
          ]
        }
      ]
    },
    {
      "cell_type": "markdown",
      "source": [
        "построим график."
      ],
      "metadata": {
        "id": "z1W3lRn9pR8u"
      }
    },
    {
      "cell_type": "code",
      "source": [
        "import numpy as np\n",
        "import pandas as pd\n",
        "import matplotlib.pyplot as plt\n",
        "import scipy.stats as sps\n",
        "#matplotlib inline\n",
        "# Нужно для новых версий библиотек для преобразования дат\n",
        "from pandas.plotting import register_matplotlib_converters\n",
        "register_matplotlib_converters()\n",
        "d = pd.date_range('20220101', periods=10)\n",
        "s = pd.Series(sps.norm.rvs(size=10), index=d)\n",
        "plt.figure(figsize=(15, 4))\n",
        "plt.plot(s)\n",
        "plt.show()"
      ],
      "metadata": {
        "colab": {
          "base_uri": "https://localhost:8080/",
          "height": 265
        },
        "id": "M2ajtjrJpSCd",
        "outputId": "bc75dedb-8f1d-4032-8b24-fb46e1de4543"
      },
      "execution_count": null,
      "outputs": [
        {
          "output_type": "display_data",
          "data": {
            "text/plain": [
              "<Figure size 1080x288 with 1 Axes>"
            ],
            "image/png": "[encoded data removed]"
          },
          "metadata": {
            "needs_background": "light"
          }
        }
      ]
    },
    {
      "cell_type": "markdown",
      "source": [
        "Сгенерируйте случайную целочисленную матрицу n×m,\n",
        "где n=20,m=10. Создайте из неё датафрейм, пронумеровав столбцы\n",
        "случайной перестановкой чисел из {1,…,m}. Выберите столбцы с чётными\n",
        "номерами и строки, в которых чётных элементов больше, чем нечётных."
      ],
      "metadata": {
        "id": "qgUzA_GBp-Wr"
      }
    },
    {
      "cell_type": "code",
      "source": [
        "import numpy as np\n",
        "import pandas as pd\n",
        "import scipy.stats as sps\n",
        "\n",
        "# создаем матрицу\n",
        "n, m = 20, 10\n",
        "data = sps.randint(low=-100, high=100).rvs(size=(n, m))\n",
        "cols = np.arange(1, m + 1)\n",
        "np.random.shuffle(cols)\n",
        "# создаем таблицу\n",
        "task_df = pd.DataFrame(data, columns=cols)\n",
        "# задаем условия для строк и столбцов\n",
        "col_mask = (cols % 2) == 0\n",
        "row_mask = np.sum(data % 2, axis=1) < (m / 2)\n",
        "# извлекаем данные по условию\n",
        "print(task_df.loc[row_mask, col_mask])"
      ],
      "metadata": {
        "id": "x6NbbhAap-eh",
        "colab": {
          "base_uri": "https://localhost:8080/"
        },
        "outputId": "145a61cb-75a1-4e9c-9548-159fd3bd5bdc"
      },
      "execution_count": null,
      "outputs": [
        {
          "output_type": "stream",
          "name": "stdout",
          "text": [
            "    10  8   2   4   6 \n",
            "2   82  -8 -61  90 -58\n",
            "3  -62  24  90  28 -47\n",
            "4  -94  96 -14 -99 -50\n",
            "5  -96 -62 -57 -66  71\n",
            "7   73  90  75  69  60\n",
            "8   14  58  53 -92 -56\n",
            "13 -86 -54  -1  17 -68\n",
            "16  17  62  69   6  98\n",
            "17 -44 -37  86 -33  25\n"
          ]
        }
      ]
    },
    {
      "cell_type": "markdown",
      "source": [
        "К таблице можно добавлять новые столбцы"
      ],
      "metadata": {
        "id": "pZTNslgpKmNN"
      }
    },
    {
      "cell_type": "code",
      "source": [
        "import scipy.stats as sps\n",
        "import pandas as pd\n",
        "d = {'one': pd.Series(range(6), index=list('abcdef')), \n",
        "     'two': pd.Series(range(7), index=list('abcdefg')),\n",
        "     'three': pd.Series(sps.norm.rvs(size=7), index=list('abcdefg'))}\n",
        "df = pd.DataFrame(d)\n",
        "df['4th'] = df['one'] * df['two']\n",
        "df['flag'] = df['two'] > 2\n",
        "print(df)"
      ],
      "metadata": {
        "colab": {
          "base_uri": "https://localhost:8080/"
        },
        "id": "-2EKafUDLT7z",
        "outputId": "8173407d-7776-4fef-e4d4-ef1356fa411a"
      },
      "execution_count": null,
      "outputs": [
        {
          "output_type": "stream",
          "name": "stdout",
          "text": [
            "   one  two     three   4th   flag\n",
            "a  0.0    0  1.359518   0.0  False\n",
            "b  1.0    1 -0.061650   1.0  False\n",
            "c  2.0    2  1.000114   4.0  False\n",
            "d  3.0    3  1.320792   9.0   True\n",
            "e  4.0    4 -0.635430  16.0   True\n",
            "f  5.0    5  1.110522  25.0   True\n",
            "g  NaN    6 -0.589856   NaN   True\n"
          ]
        }
      ]
    },
    {
      "cell_type": "markdown",
      "source": [
        "И удалять имеющиеся"
      ],
      "metadata": {
        "id": "05efLuzaNEL-"
      }
    },
    {
      "cell_type": "code",
      "source": [
        "import scipy.stats as sps\n",
        "import pandas as pd\n",
        "d = {'one': pd.Series(range(6), index=list('abcdef')), \n",
        "     'two': pd.Series(range(7), index=list('abcdefg')),\n",
        "     'three': pd.Series(sps.norm.rvs(size=7), index=list('abcdefg'))}\n",
        "df = pd.DataFrame(d)\n",
        "del df['two']\n",
        "df['foo'] = 0\n",
        "print(df)"
      ],
      "metadata": {
        "colab": {
          "base_uri": "https://localhost:8080/"
        },
        "id": "fMDCz17gNIww",
        "outputId": "b46109d0-99d9-4238-801b-1b49c3e5bf6e"
      },
      "execution_count": null,
      "outputs": [
        {
          "output_type": "stream",
          "name": "stdout",
          "text": [
            "   one     three  foo\n",
            "a  0.0 -0.566618    0\n",
            "b  1.0 -1.195743    0\n",
            "c  2.0  1.037241    0\n",
            "d  3.0  0.600812    0\n",
            "e  4.0  2.187515    0\n",
            "f  5.0 -1.767978    0\n",
            "g  NaN -0.352937    0\n"
          ]
        }
      ]
    },
    {
      "cell_type": "markdown",
      "source": [
        "Добавим копию столбца one, в которую входят только строки до\n",
        "третьей"
      ],
      "metadata": {
        "id": "P4f8bajUNZOS"
      }
    },
    {
      "cell_type": "code",
      "source": [
        "import scipy.stats as sps\n",
        "import pandas as pd\n",
        "d = {'one': pd.Series(range(6), index=list('abcdef')), \n",
        "     'two': pd.Series(range(7), index=list('abcdefg')),\n",
        "     'three': pd.Series(sps.norm.rvs(size=7), index=list('abcdefg'))}\n",
        "df = pd.DataFrame(d)\n",
        "df['one_tr'] = df['one'][:3]\n",
        "print(df)"
      ],
      "metadata": {
        "colab": {
          "base_uri": "https://localhost:8080/"
        },
        "id": "-eixZbRJNn2_",
        "outputId": "843d06ca-b7e4-4a41-f3b1-72edb1170995"
      },
      "execution_count": null,
      "outputs": [
        {
          "output_type": "stream",
          "name": "stdout",
          "text": [
            "   one  two     three  one_tr\n",
            "a  0.0    0 -1.310791     0.0\n",
            "b  1.0    1  0.441241     1.0\n",
            "c  2.0    2 -0.686839     2.0\n",
            "d  3.0    3  0.941000     NaN\n",
            "e  4.0    4  1.144188     NaN\n",
            "f  5.0    5  0.143204     NaN\n",
            "g  NaN    6  1.128066     NaN\n"
          ]
        }
      ]
    },
    {
      "cell_type": "markdown",
      "source": [
        "Удаление всех строк с пропусками"
      ],
      "metadata": {
        "id": "FKuTsI1xN5uC"
      }
    },
    {
      "cell_type": "code",
      "source": [
        "import scipy.stats as sps\n",
        "import pandas as pd\n",
        "d = {'one': pd.Series(range(6), index=list('abcdef')), \n",
        "     'two': pd.Series(range(7), index=list('abcdefg')),\n",
        "     'three': pd.Series(sps.norm.rvs(size=7), index=list('abcdefg'))}\n",
        "df = pd.DataFrame(d)\n",
        "print(df.dropna(how='any'))"
      ],
      "metadata": {
        "colab": {
          "base_uri": "https://localhost:8080/"
        },
        "id": "q6yKOs7WN8UA",
        "outputId": "13f36156-efff-42af-e802-3d976c8c6399"
      },
      "execution_count": null,
      "outputs": [
        {
          "output_type": "stream",
          "name": "stdout",
          "text": [
            "   one  two     three\n",
            "a  0.0    0  0.747148\n",
            "b  1.0    1  0.845386\n",
            "c  2.0    2 -2.038540\n",
            "d  3.0    3 -0.636523\n",
            "e  4.0    4  0.130621\n",
            "f  5.0    5  0.404854\n"
          ]
        }
      ]
    },
    {
      "cell_type": "markdown",
      "source": [
        "Замена всех пропусков на значение"
      ],
      "metadata": {
        "id": "cvN37jhSOYNf"
      }
    },
    {
      "cell_type": "code",
      "source": [
        "import scipy.stats as sps\n",
        "import pandas as pd\n",
        "d = {'one': pd.Series(range(6), index=list('abcdef')), \n",
        "     'two': pd.Series(range(7), index=list('abcdefg')),\n",
        "     'three': pd.Series(sps.norm.rvs(size=7), index=list('abcdefg'))}\n",
        "df = pd.DataFrame(d)\n",
        "df['4th'] = df['one'] * df['two']\n",
        "df['flag'] = df['two'] > 2\n",
        "del df['two']\n",
        "df['foo'] = 0\n",
        "df['one_tr'] = df['one'][:3]\n",
        "print(df.fillna(value=666))"
      ],
      "metadata": {
        "colab": {
          "base_uri": "https://localhost:8080/"
        },
        "id": "T7fWoynEOY9B",
        "outputId": "e402a0b7-f366-4532-98eb-1bf08ae85c8d"
      },
      "execution_count": null,
      "outputs": [
        {
          "output_type": "stream",
          "name": "stdout",
          "text": [
            "     one     three    4th   flag  foo  one_tr\n",
            "a    0.0 -0.385951    0.0  False    0     0.0\n",
            "b    1.0 -1.277527    1.0  False    0     1.0\n",
            "c    2.0  0.284391    4.0  False    0     2.0\n",
            "d    3.0  1.636459    9.0   True    0   666.0\n",
            "e    4.0 -0.442739   16.0   True    0   666.0\n",
            "f    5.0 -1.080850   25.0   True    0   666.0\n",
            "g  666.0 -0.089512  666.0   True    0   666.0\n"
          ]
        }
      ]
    },
    {
      "cell_type": "markdown",
      "source": [
        "Создадим таблицу из массива случайных чисел"
      ],
      "metadata": {
        "id": "NcXX0kFOO8ip"
      }
    },
    {
      "cell_type": "code",
      "source": [
        "import scipy.stats as sps\n",
        "import pandas as pd\n",
        "df = pd.DataFrame(sps.uniform.rvs(size=(10, 4)), columns=['A', 'B', 'C', 'D'])\n",
        "print(df)"
      ],
      "metadata": {
        "colab": {
          "base_uri": "https://localhost:8080/"
        },
        "id": "3fOw8uD3POw5",
        "outputId": "0f9d3578-714a-4eca-d05b-0d84072925c2"
      },
      "execution_count": null,
      "outputs": [
        {
          "output_type": "stream",
          "name": "stdout",
          "text": [
            "          A         B         C         D\n",
            "0  0.594850  0.988214  0.241949  0.266879\n",
            "1  0.387960  0.752033  0.425668  0.773907\n",
            "2  0.795929  0.663895  0.663944  0.170099\n",
            "3  0.565214  0.768686  0.571695  0.674699\n",
            "4  0.405232  0.184518  0.234224  0.026287\n",
            "5  0.761340  0.737721  0.296614  0.754732\n",
            "6  0.519504  0.542226  0.485160  0.448094\n",
            "7  0.075850  0.732864  0.572308  0.928511\n",
            "8  0.038811  0.623394  0.108532  0.184348\n",
            "9  0.526082  0.763708  0.850472  0.492766\n"
          ]
        }
      ]
    },
    {
      "cell_type": "markdown",
      "source": [
        "Время.\n",
        "Интервал можно добавить к какой-нибудь дате, или вычесть из нее."
      ],
      "metadata": {
        "id": "KDtK8aZMPfYn"
      }
    },
    {
      "cell_type": "code",
      "source": [
        "import pandas as pd\n",
        "print(pd.to_datetime('2022.09.18 18:30') + pd.Timedelta('8hr 37min 23sec 12ms'))"
      ],
      "metadata": {
        "colab": {
          "base_uri": "https://localhost:8080/"
        },
        "id": "Gi6faQBuo65f",
        "outputId": "89e0d82c-5a82-4213-f9ab-80e6c4f2846e"
      },
      "execution_count": 3,
      "outputs": [
        {
          "output_type": "stream",
          "name": "stdout",
          "text": [
            "2022-09-19 03:07:23.012000\n"
          ]
        }
      ]
    },
    {
      "cell_type": "code",
      "source": [
        "import pandas as pd\n",
        "\n",
        "print(pd.to_datetime('2022.09.18 18:30') - pd.Timedelta('20hr 50min 23sec 12ms'))"
      ],
      "metadata": {
        "colab": {
          "base_uri": "https://localhost:8080/"
        },
        "id": "PrA9Bf17qNMA",
        "outputId": "545ff0ef-95fd-4e08-fd58-ff2262ddc432"
      },
      "execution_count": 4,
      "outputs": [
        {
          "output_type": "stream",
          "name": "stdout",
          "text": [
            "2022-09-17 21:39:36.988000\n"
          ]
        }
      ]
    }
  ]
}