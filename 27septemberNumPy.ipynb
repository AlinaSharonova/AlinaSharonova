{
  "nbformat": 4,
  "nbformat_minor": 0,
  "metadata": {
    "colab": {
      "provenance": [],
      "authorship_tag": "ABX9TyNaV4ORHMJlJXo331nCPSnh",
      "include_colab_link": true
    },
    "kernelspec": {
      "name": "python3",
      "display_name": "Python 3"
    },
    "language_info": {
      "name": "python"
    }
  },
  "cells": [
    {
      "cell_type": "markdown",
      "metadata": {
        "id": "view-in-github",
        "colab_type": "text"
      },
      "source": [
        "<a href=\"https://colab.research.google.com/github/AlinaSharonova/AlinaSharonova/blob/master/27septemberNumPy.ipynb\" target=\"_parent\"><img src=\"https://colab.research.google.com/assets/colab-badge.svg\" alt=\"Open In Colab\"/></a>"
      ]
    },
    {
      "cell_type": "markdown",
      "source": [
        "Numpy Basic Number 11\n",
        "Напишите программу NumPy для создания поэлементного сравнения (равного, равного в пределах допуска) двух заданных массивов.  "
      ],
      "metadata": {
        "id": "O40RJk26d0F7"
      }
    },
    {
      "cell_type": "code",
      "execution_count": 8,
      "metadata": {
        "colab": {
          "base_uri": "https://localhost:8080/"
        },
        "id": "4WadnzvZdu57",
        "outputId": "3d26cd78-586e-49a6-f05c-cb992a5ee45d"
      },
      "outputs": [
        {
          "output_type": "stream",
          "name": "stdout",
          "text": [
            "Original numbers:\n",
            "[  2  22  33  44 100  -1 -10]\n",
            "[-52.   7.   8.   0. 150. -13. 121.]\n",
            "Comparison - equal:\n",
            "[ True  True  True  True False  True False]\n",
            "Comparison - equal within a tolerance:\n",
            "[ True  True  True  True False  True False]\n"
          ]
        }
      ],
      "source": [
        "import numpy as np\n",
        "x = np.array([2, 22, 33, 44, 100, -1, -10])\n",
        "y = np.array([-52, 7, 8, 0, 150, -13, 121.0])\n",
        "print(\"Original numbers:\")\n",
        "print(x)\n",
        "print(y)\n",
        "print(\"Comparison - equal:\")\n",
        "print(np.greater(x, y))\n",
        "print(\"Comparison - equal within a tolerance:\")\n",
        "print(np.greater_equal(x, y))\n"
      ]
    },
    {
      "cell_type": "markdown",
      "source": [
        "Numpy Basic Number 21\n",
        "Напишите программу NumPy для создания вектора длиной 10 со значениями, равномерно распределенными между 5 и 50.  \n"
      ],
      "metadata": {
        "id": "PWjqQJt6f3Ki"
      }
    },
    {
      "cell_type": "code",
      "source": [
        "import numpy as np\n",
        "v = np.linspace(10, 49, 5)\n",
        "print(\"Length 10 with values evenly distributed between 5 and 50:\")\n",
        "print(v)\n"
      ],
      "metadata": {
        "colab": {
          "base_uri": "https://localhost:8080/"
        },
        "id": "fHx-BSUVgIgR",
        "outputId": "e594be32-42e2-45e6-bd0c-8cefccac93e6"
      },
      "execution_count": 4,
      "outputs": [
        {
          "output_type": "stream",
          "name": "stdout",
          "text": [
            "Length 10 with values evenly distributed between 5 and 50:\n",
            "[10.   19.75 29.5  39.25 49.  ]\n"
          ]
        }
      ]
    },
    {
      "cell_type": "markdown",
      "source": [
        "Numpy Basic Number 31\n",
        "Напишите программу NumPy для создания массива 3x3x3, заполненного произвольными значениями."
      ],
      "metadata": {
        "id": "upDVky12gTYS"
      }
    },
    {
      "cell_type": "code",
      "source": [
        "import numpy as np\n",
        "x = np.random.random((3, 3, 3))\n",
        "print(x)\n"
      ],
      "metadata": {
        "colab": {
          "base_uri": "https://localhost:8080/"
        },
        "id": "5JmtH_MEgt5N",
        "outputId": "16b50496-13f1-4fd5-9048-5fc9c3cba60c"
      },
      "execution_count": 11,
      "outputs": [
        {
          "output_type": "stream",
          "name": "stdout",
          "text": [
            "[[[9.07192279e-02 8.71460468e-01 1.11655019e-01]\n",
            "  [2.28391195e-01 6.31566207e-01 6.66376744e-01]\n",
            "  [3.85832969e-01 6.96638372e-01 3.39567814e-04]]\n",
            "\n",
            " [[6.49559851e-01 5.55322757e-01 5.79063581e-01]\n",
            "  [4.97686797e-02 4.38069728e-02 9.14087364e-01]\n",
            "  [7.10420195e-01 7.68259900e-01 9.71618638e-03]]\n",
            "\n",
            " [[9.87199810e-01 6.50645604e-01 6.96270395e-01]\n",
            "  [3.77171096e-01 7.68508454e-01 7.94471583e-01]\n",
            "  [5.13573553e-02 5.49320937e-01 2.76330387e-01]]]\n"
          ]
        }
      ]
    },
    {
      "cell_type": "markdown",
      "source": [
        "NumPy: упражнения с массивом\n",
        "\n",
        "Number 11\n",
        "\n",
        "Напишите программу NumPy для преобразования списка и кортежа в массивы.  \n",
        "Список в массив:\n",
        "[1 2 3 4 5 6 7 8]\n",
        "Кортеж в массив:\n",
        "[[8 4 6]\n",
        "[1 2 3]]\n"
      ],
      "metadata": {
        "id": "25kjGetrirj4"
      }
    },
    {
      "cell_type": "code",
      "source": [
        "import numpy as np\n",
        "my_list = [1, 2, 3, 4, 5, 6, 7, 8]\n",
        "print(\"List to array: \")\n",
        "print(np.asarray(my_list))\n",
        "my_tuple = ([8, 4, 6], [1, 2, 3])\n",
        "print(\"Tuple to array: \")\n",
        "print(np.asarray(my_tuple))"
      ],
      "metadata": {
        "colab": {
          "base_uri": "https://localhost:8080/"
        },
        "id": "BFZbyXY4lC-d",
        "outputId": "ee547711-1e88-4fab-89eb-7a64485155c5"
      },
      "execution_count": 14,
      "outputs": [
        {
          "output_type": "stream",
          "name": "stdout",
          "text": [
            "List to array: \n",
            "[1 2 3 4 5 6 7 8]\n",
            "Tuple to array: \n",
            "[[8 4 6]\n",
            " [1 2 3]]\n"
          ]
        }
      ]
    },
    {
      "cell_type": "markdown",
      "source": [
        "NumPy: упражнения с массивом\n",
        "\n",
        "Number 21\n",
        "\n",
        "Напишите программу NumPy, чтобы найти набор исключений или двух массивов. Set exclusive-or вернет отсортированные, уникальные значения, которые находятся только в одном (а не в обоих) входных массивах.  \n",
        "Array1: [0 10 20 40 60 80]\n",
        "Array2: [10, 30, 40, 50, 70]\n",
        "Уникальные значения, которые есть только в одном (а не в обоих) входных массивах:\n",
        "[0 20 30 50 60 70 80]\n"
      ],
      "metadata": {
        "id": "LovAO73qlTzS"
      }
    },
    {
      "cell_type": "code",
      "source": [
        "import numpy as np\n",
        "array1 = np.array([0, 10, 20, 40, 60, 80])\n",
        "print(\"Array1: \",array1)\n",
        "array2 = [10, 30, 40, 50, 70]\n",
        "print(\"Array2: \",array2)\n",
        "print(\"Unique sorted array of values that are in either of the two input arrays:\")\n",
        "print(np.setxor1d(array1, array2))"
      ],
      "metadata": {
        "colab": {
          "base_uri": "https://localhost:8080/"
        },
        "id": "etXFOq3OlgI6",
        "outputId": "a6b77e57-dde8-4e16-ab5b-b17d642e7cae"
      },
      "execution_count": 18,
      "outputs": [
        {
          "output_type": "stream",
          "name": "stdout",
          "text": [
            "Array1:  [ 0 10 20 40 60 80]\n",
            "Array2:  [10, 30, 40, 50, 70]\n",
            "Unique sorted array of values that are in either of the two input arrays:\n",
            "[ 0 20 30 50 60 70 80]\n"
          ]
        }
      ]
    },
    {
      "cell_type": "markdown",
      "source": [
        "NumPy: упражнения с массивом\n",
        "\n",
        "Number 31\n",
        "\n",
        "Напишите программу NumPy, чтобы получить значения и индексы элементов, которые больше 10 в данном массиве.  \n",
        "Исходный массив:\n",
        "[[0 10 20]\n",
        "[20 30 40]]\n",
        "Значения больше 10 = [20 20 30 40]\n",
        "Их индексы (массив ([0, 1, 1, 1]), массив ([2, 0, 1, 2]))\n"
      ],
      "metadata": {
        "id": "mO2THgl-mlH9"
      }
    },
    {
      "cell_type": "code",
      "source": [
        "import numpy as np\n",
        "x = np.array([[0, 10, 20], [20, 30, 40]])\n",
        "print(\"Original array: \")\n",
        "print(x)\n",
        "print(\"Values bigger than 10 =\", x[x>10])\n",
        "print(\"Their indices are \", np.nonzero(x > 10))"
      ],
      "metadata": {
        "colab": {
          "base_uri": "https://localhost:8080/"
        },
        "id": "gHDfU6fqms6A",
        "outputId": "e2ca25b5-ef5a-4eb9-a452-d0f963730f70"
      },
      "execution_count": 19,
      "outputs": [
        {
          "output_type": "stream",
          "name": "stdout",
          "text": [
            "Original array: \n",
            "[[ 0 10 20]\n",
            " [20 30 40]]\n",
            "Values bigger than 10 = [20 20 30 40]\n",
            "Their indices are  (array([0, 1, 1, 1]), array([2, 0, 1, 2]))\n"
          ]
        }
      ]
    },
    {
      "cell_type": "markdown",
      "source": [
        "Линейная алгебра NumPy\n",
        "\n",
        "Number 11\n",
        "\n",
        "Напишите программу NumPy для вычисления определителя массива. "
      ],
      "metadata": {
        "id": "2zMHm0RNnv6N"
      }
    },
    {
      "cell_type": "code",
      "source": [
        "import numpy as np\n",
        "a = np.array([[1,2],[3,4]])\n",
        "print(\"Original array:\")\n",
        "print(a)\n",
        "result =  np.linalg.det(a)\n",
        "print(\"Determinant of the said array:\")\n",
        "print(result)"
      ],
      "metadata": {
        "colab": {
          "base_uri": "https://localhost:8080/"
        },
        "id": "fYeH9IdcoMu_",
        "outputId": "27c1a4b4-3ebe-4bbb-e8b0-957b36d7298f"
      },
      "execution_count": 21,
      "outputs": [
        {
          "output_type": "stream",
          "name": "stdout",
          "text": [
            "Original array:\n",
            "[[1 2]\n",
            " [3 4]]\n",
            "Determinant of the said array:\n",
            "-2.0000000000000004\n"
          ]
        }
      ]
    },
    {
      "cell_type": "markdown",
      "source": [
        "NumPy: случайные упражнения\n",
        "\n",
        "Number 11\n",
        "\n",
        "Напишите программу NumPy для создания случайного вектора размером 15 и замените максимальное значение на -1.  \n"
      ],
      "metadata": {
        "id": "sdO_EJQ4oWLL"
      }
    },
    {
      "cell_type": "code",
      "source": [
        "import numpy as np\n",
        "x = np.random.random(15)\n",
        "print(\"Original array:\")\n",
        "print(x)\n",
        "x[x.argmax()] = -1\n",
        "print(\"Maximum value replaced by -1:\")\n",
        "print(x)"
      ],
      "metadata": {
        "colab": {
          "base_uri": "https://localhost:8080/"
        },
        "id": "byQrzVMjo1WT",
        "outputId": "593e0a58-fa59-4d0c-c40e-a83b681f23ad"
      },
      "execution_count": 22,
      "outputs": [
        {
          "output_type": "stream",
          "name": "stdout",
          "text": [
            "Original array:\n",
            "[0.37414557 0.26061089 0.66824569 0.4343545  0.45826735 0.48986644\n",
            " 0.5986174  0.40275369 0.29390684 0.6127944  0.0065124  0.18762822\n",
            " 0.61216826 0.27338598 0.63256552]\n",
            "Maximum value replaced by -1:\n",
            "[ 0.37414557  0.26061089 -1.          0.4343545   0.45826735  0.48986644\n",
            "  0.5986174   0.40275369  0.29390684  0.6127944   0.0065124   0.18762822\n",
            "  0.61216826  0.27338598  0.63256552]\n"
          ]
        }
      ]
    },
    {
      "cell_type": "markdown",
      "source": [
        "NumPy: математические упражнения\n",
        "\n",
        "Number 11\n",
        "\n",
        "Напишите программу NumPy, чтобы умножить матрицу 5x3 на матрицу 3x2 и создать реальный матричный продукт. "
      ],
      "metadata": {
        "id": "AAlRpilAo7TL"
      }
    },
    {
      "cell_type": "code",
      "source": [
        "import numpy as np\n",
        "x = np.random.random((5,3))\n",
        "print(\"First array:\")\n",
        "print(x)\n",
        "y = np.random.random((3,2))\n",
        "print(\"Second array:\")\n",
        "print(y)\n",
        "z = np.dot(x, y)\n",
        "print(\"Dot product of two arrays:\")\n",
        "print(z)\n"
      ],
      "metadata": {
        "colab": {
          "base_uri": "https://localhost:8080/"
        },
        "id": "k8i71GUSqXld",
        "outputId": "9560947c-0a93-4bcb-c265-a29cecd89c4b"
      },
      "execution_count": 23,
      "outputs": [
        {
          "output_type": "stream",
          "name": "stdout",
          "text": [
            "First array:\n",
            "[[0.05960408 0.89470147 0.45062836]\n",
            " [0.57801333 0.65358626 0.74143712]\n",
            " [0.71185921 0.03026638 0.26905931]\n",
            " [0.95347824 0.34347507 0.14840681]\n",
            " [0.48519611 0.44231192 0.23123356]]\n",
            "Second array:\n",
            "[[0.08334428 0.50249967]\n",
            " [0.63008001 0.12431329]\n",
            " [0.23843446 0.51311267]]\n",
            "Dot product of two arrays:\n",
            "[[0.6761465  0.37239743]\n",
            " [0.6367699  0.75214174]\n",
            " [0.14255265 0.49952927]\n",
            " [0.33126904 0.59797043]\n",
            " [0.37426427 0.417445  ]]\n"
          ]
        }
      ]
    }
  ]
}