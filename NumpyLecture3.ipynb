{
  "nbformat": 4,
  "nbformat_minor": 0,
  "metadata": {
    "colab": {
      "provenance": [],
      "collapsed_sections": [],
      "authorship_tag": "ABX9TyMsbntk5Zx5kOp5hKayx8tP",
      "include_colab_link": true
    },
    "kernelspec": {
      "name": "python3",
      "display_name": "Python 3"
    },
    "language_info": {
      "name": "python"
    }
  },
  "cells": [
    {
      "cell_type": "markdown",
      "metadata": {
        "id": "view-in-github",
        "colab_type": "text"
      },
      "source": [
        "<a href=\"https://colab.research.google.com/github/AlinaSharonova/AlinaSharonova/blob/master/NumpyLecture3.ipynb\" target=\"_parent\"><img src=\"https://colab.research.google.com/assets/colab-badge.svg\" alt=\"Open In Colab\"/></a>"
      ]
    },
    {
      "cell_type": "markdown",
      "source": [
        "Numpy\n",
        "Транспонирование матрицы"
      ],
      "metadata": {
        "id": "KK6mUfjLeJfs"
      }
    },
    {
      "cell_type": "code",
      "execution_count": null,
      "metadata": {
        "colab": {
          "base_uri": "https://localhost:8080/"
        },
        "id": "sxKiVFNYeDCI",
        "outputId": "69fc3a50-9ee7-43e5-f96b-aaae833e0e72"
      },
      "outputs": [
        {
          "output_type": "stream",
          "name": "stdout",
          "text": [
            "A:\n",
            "[[ 1.  3. -1.]\n",
            " [ 5.  2.  0.]\n",
            " [ 0.  5.  1.]]\n",
            "\n",
            " a.T\n",
            "[[ 1.  5.  0.]\n",
            " [ 3.  2.  5.]\n",
            " [-1.  0.  1.]]\n"
          ]
        }
      ],
      "source": [
        "import numpy as np\n",
        "a = np.array([[1, 3,-1], [5, 2,0], [0,5,1]],\n",
        "float)\n",
        "b=a.T\n",
        "print(\"A:\")\n",
        "print(a)\n",
        "print(\"\\n a.T\")\n",
        "print(b)"
      ]
    },
    {
      "cell_type": "markdown",
      "source": [
        "Cоединение матриц по горизонтали и по вертикали."
      ],
      "metadata": {
        "id": "q8Vw8TSEfOHi"
      }
    },
    {
      "cell_type": "code",
      "source": [
        "import numpy as np\n",
        "a = np.array([[0, 1], [2, 3]])\n",
        "b = np.array([[4, 5, 6], [7, 8, 9]])\n",
        "c = np.array([[4, 5], [6, 7], [8,\n",
        "9]])\n",
        "print(\"A:\")\n",
        "print(a)\n",
        "print(\"B:\")\n",
        "print(b)\n",
        "print(\"C:\")\n",
        "print(c)\n",
        "print(\"np.hstack((a, b)):\")\n",
        "d=np.hstack((a, b))\n",
        "print(d)\n",
        "print(\"np.vstack((a, c)):\")\n",
        "e=np.vstack((a, c))\n",
        "print(e)"
      ],
      "metadata": {
        "colab": {
          "base_uri": "https://localhost:8080/"
        },
        "id": "sO9MDdUwfPkB",
        "outputId": "76a0141b-a257-43a4-99b7-eb2ebbff9f6f"
      },
      "execution_count": null,
      "outputs": [
        {
          "output_type": "stream",
          "name": "stdout",
          "text": [
            "A:\n",
            "[[0 1]\n",
            " [2 3]]\n",
            "B:\n",
            "[[4 5 6]\n",
            " [7 8 9]]\n",
            "C:\n",
            "[[4 5]\n",
            " [6 7]\n",
            " [8 9]]\n",
            "np.hstack((a, b)):\n",
            "[[0 1 4 5 6]\n",
            " [2 3 7 8 9]]\n",
            "np.vstack((a, c)):\n",
            "[[0 1]\n",
            " [2 3]\n",
            " [4 5]\n",
            " [6 7]\n",
            " [8 9]]\n"
          ]
        }
      ]
    },
    {
      "cell_type": "markdown",
      "source": [
        "Сумма всех элементов; суммы столбцов; суммы строк."
      ],
      "metadata": {
        "id": "bmWWgqVlfopr"
      }
    },
    {
      "cell_type": "code",
      "source": [
        "import numpy as np\n",
        "a = np.array([[4, 5, 6], [7, 8,\n",
        "9]])\n",
        "print(\"A:\")\n",
        "print(a)\n",
        "print(\"Сумма всех элементов\" ,\"a.sum():\")\n",
        "b=a.sum()\n",
        "print(b)\n",
        "print(\"Сумма столбцов\", \"a.sum(axis=0):\")\n",
        "c=a.sum(axis=0)\n",
        "print(c)\n",
        "print(\"Сумма строк\", \"a.sum(axis=1):\")\n",
        "d=a.sum(axis=1)\n",
        "print(d)"
      ],
      "metadata": {
        "colab": {
          "base_uri": "https://localhost:8080/"
        },
        "id": "1HXcU304fpxV",
        "outputId": "27020a77-9521-410e-c6c7-a8b7e1b963af"
      },
      "execution_count": null,
      "outputs": [
        {
          "output_type": "stream",
          "name": "stdout",
          "text": [
            "A:\n",
            "[[4 5 6]\n",
            " [7 8 9]]\n",
            "Сумма всех элементов a.sum():\n",
            "39\n",
            "Сумма столбцов a.sum(axis=0):\n",
            "[11 13 15]\n",
            "Сумма строк a.sum(axis=1):\n",
            "[15 24]\n"
          ]
        }
      ]
    },
    {
      "cell_type": "markdown",
      "source": [
        "Сумма диагональных элементов."
      ],
      "metadata": {
        "id": "ujyJSaNniG0S"
      }
    },
    {
      "cell_type": "code",
      "source": [
        "import numpy as np\n",
        "a = np.array([[0, 1], [2,\n",
        "3]])\n",
        "print(\"A:\")\n",
        "print(a)\n",
        "print(\"np.trace(a):\")\n",
        "b=np.trace(a)\n",
        "print(b)"
      ],
      "metadata": {
        "colab": {
          "base_uri": "https://localhost:8080/"
        },
        "id": "WIIJscW0iJ2B",
        "outputId": "a2d356c7-0374-4085-db53-5d54561e4bbf"
      },
      "execution_count": null,
      "outputs": [
        {
          "output_type": "stream",
          "name": "stdout",
          "text": [
            "A:\n",
            "[[0 1]\n",
            " [2 3]]\n",
            "np.trace(a):\n",
            "3\n"
          ]
        }
      ]
    },
    {
      "cell_type": "markdown",
      "source": [
        "Одиночное (cингулярное) разложение (аналог диагонализации не\n",
        "квадратной матрицы)"
      ],
      "metadata": {
        "id": "LisHOhGricNB"
      }
    },
    {
      "cell_type": "code",
      "source": [
        "from calendar import c\n",
        "import numpy as np\n",
        "a = np.array([[1, 3,4], [5, 2, 3]],\n",
        "float)\n",
        "U, s, Vh = np.linalg.svd(a)\n",
        "print(\"A:\")\n",
        "print(a)\n",
        "print(\"\\n U:\")\n",
        "print(U)\n",
        "print(\"\\n s:\")\n",
        "print(s)\n",
        "print(\"\\n Vh:\")\n",
        "print(Vh)"
      ],
      "metadata": {
        "colab": {
          "base_uri": "https://localhost:8080/"
        },
        "id": "8m0E4vTaikoZ",
        "outputId": "6dd98c4a-5868-43f7-921b-fc2dd398a8be"
      },
      "execution_count": null,
      "outputs": [
        {
          "output_type": "stream",
          "name": "stdout",
          "text": [
            "A:\n",
            "[[1. 3. 4.]\n",
            " [5. 2. 3.]]\n",
            "\n",
            " U:\n",
            "[[-0.6113829  -0.79133492]\n",
            " [-0.79133492  0.6113829 ]]\n",
            "\n",
            " s:\n",
            "[7.46791327 2.86884495]\n",
            "\n",
            " Vh:\n",
            "[[-0.61169129 -0.45753324 -0.64536587]\n",
            " [ 0.78971838 -0.40129005 -0.46401635]\n",
            " [-0.046676   -0.79349205  0.60678804]]\n"
          ]
        }
      ]
    },
    {
      "cell_type": "markdown",
      "source": [
        "норма вектора или оператора."
      ],
      "metadata": {
        "id": "5SHXQ8lxjuhT"
      }
    },
    {
      "cell_type": "code",
      "source": [
        "import numpy as np\n",
        "a = np.array([1,2,5,7,9],\n",
        "float)\n",
        "b=np.linalg.norm(a)\n",
        "print(\"A:\")\n",
        "print(a)\n",
        "print(\"\\n Norm(a):\")\n",
        "print(b)"
      ],
      "metadata": {
        "colab": {
          "base_uri": "https://localhost:8080/"
        },
        "id": "bkdFKb2yieOa",
        "outputId": "341e16fa-56fc-4f9f-e878-8dad841b0755"
      },
      "execution_count": null,
      "outputs": [
        {
          "output_type": "stream",
          "name": "stdout",
          "text": [
            "A:\n",
            "[1. 2. 5. 7. 9.]\n",
            "\n",
            " Norm(a):\n",
            "12.649110640673518\n"
          ]
        }
      ]
    },
    {
      "cell_type": "markdown",
      "source": [
        "\"хорошее\" решение"
      ],
      "metadata": {
        "id": "Vg7hbbB1kdn_"
      }
    },
    {
      "cell_type": "code",
      "source": [
        "import numpy as np\n",
        "x = np.array([[-3, 4, 1], [4, 3, 1]])\n",
        "y = np.array([10, 12])\n",
        "I = np.eye(3)\n",
        "lambd = 0.1\n",
        "theta = np.linalg.inv(x.T @ x + lambd * I) @x.T@y\n",
        "print(theta)"
      ],
      "metadata": {
        "colab": {
          "base_uri": "https://localhost:8080/"
        },
        "id": "IwZfQTDskdu4",
        "outputId": "00941c3b-6350-4da6-d7f7-9c7d0ae30e9b"
      },
      "execution_count": null,
      "outputs": [
        {
          "output_type": "stream",
          "name": "stdout",
          "text": [
            "[0.68478852 2.80148778 0.81180812]\n"
          ]
        }
      ]
    },
    {
      "cell_type": "markdown",
      "source": [
        "Математика многочленов\n",
        "\n",
        "Передавая\n",
        "список корней, можно получить коэффициенты уравнения:"
      ],
      "metadata": {
        "id": "cUSD9i0hlFxf"
      }
    },
    {
      "cell_type": "code",
      "source": [
        "import numpy as np\n",
        "a=np.poly([-1, 1, 1,\n",
        "10])\n",
        "print(\"A:\")\n",
        "print(a)"
      ],
      "metadata": {
        "colab": {
          "base_uri": "https://localhost:8080/"
        },
        "id": "1SsgS2C2lKqn",
        "outputId": "8ed65db3-ee7b-4359-f368-8faf16a5aed2"
      },
      "execution_count": null,
      "outputs": [
        {
          "output_type": "stream",
          "name": "stdout",
          "text": [
            "A:\n",
            "[  1. -11.   9.  11. -10.]\n"
          ]
        }
      ]
    },
    {
      "cell_type": "markdown",
      "source": [
        "передавая список коэффициентов, функция root вернет все корни многочлена:"
      ],
      "metadata": {
        "id": "spIVWWFMlPjG"
      }
    },
    {
      "cell_type": "code",
      "source": [
        "import numpy as np\n",
        "a=np.roots([1, -11, 9, 11, -10])\n",
        "print(\"A:\")\n",
        "print(a)"
      ],
      "metadata": {
        "colab": {
          "base_uri": "https://localhost:8080/"
        },
        "id": "YfKx-JjslTHX",
        "outputId": "a7490532-054d-4aa7-b2b1-44026542d841"
      },
      "execution_count": null,
      "outputs": [
        {
          "output_type": "stream",
          "name": "stdout",
          "text": [
            "A:\n",
            "[10.+0.0000000e+00j -1.+0.0000000e+00j  1.+9.6357437e-09j\n",
            "  1.-9.6357437e-09j]\n"
          ]
        }
      ]
    },
    {
      "cell_type": "markdown",
      "source": [
        "Решение линейной системы. \n",
        "Вариант 1"
      ],
      "metadata": {
        "id": "P0Sjqh3-ljW-"
      }
    },
    {
      "cell_type": "code",
      "source": [
        "import numpy as np\n",
        "a = np.array([[0, 1], [2, 3]])\n",
        "v = np.array([0, 1],\n",
        "dtype=np.float64)\n",
        "print(\"A:\")\n",
        "print(a)\n",
        "print(\"\\n V:\")\n",
        "print(v)\n",
        "a1 = np.linalg.inv(a)\n",
        "print(\"\\n a^(-1):\")\n",
        "print(a1)\n",
        "u=a1 @ v\n",
        "print(\"\\n U:\")\n",
        "print(u)"
      ],
      "metadata": {
        "colab": {
          "base_uri": "https://localhost:8080/"
        },
        "id": "7ItoHSrzlmyf",
        "outputId": "666a9da9-f59e-4b1b-bb4c-093a2b4e3248"
      },
      "execution_count": null,
      "outputs": [
        {
          "output_type": "stream",
          "name": "stdout",
          "text": [
            "A:\n",
            "[[0 1]\n",
            " [2 3]]\n",
            "\n",
            " V:\n",
            "[0. 1.]\n",
            "\n",
            " a^(-1):\n",
            "[[-1.5  0.5]\n",
            " [ 1.   0. ]]\n",
            "\n",
            " U:\n",
            "[0.5 0. ]\n"
          ]
        }
      ]
    },
    {
      "cell_type": "markdown",
      "source": [
        "Решение линейной системы. Вариант 2"
      ],
      "metadata": {
        "id": "mTbDA4Qsl20V"
      }
    },
    {
      "cell_type": "code",
      "source": [
        "import numpy as np\n",
        "a = np.array([[0, 1], [2, 3]])\n",
        "v = np.array([0, 1],\n",
        "dtype=np.float64)\n",
        "print(\"A:\")\n",
        "print(a)\n",
        "print(\"\\n V:\")\n",
        "print(v)\n",
        "u = np.linalg.solve(a, v)\n",
        "print(\"\\n U:\")\n",
        "print(u)"
      ],
      "metadata": {
        "colab": {
          "base_uri": "https://localhost:8080/"
        },
        "id": "AjOXH7Mgl7Nt",
        "outputId": "6f7bf01d-901f-419c-82a1-0fa7e35572d6"
      },
      "execution_count": null,
      "outputs": [
        {
          "output_type": "stream",
          "name": "stdout",
          "text": [
            "A:\n",
            "[[0 1]\n",
            " [2 3]]\n",
            "\n",
            " V:\n",
            "[0. 1.]\n",
            "\n",
            " U:\n",
            "[0.5 0. ]\n"
          ]
        }
      ]
    },
    {
      "cell_type": "markdown",
      "source": [
        "Проверка"
      ],
      "metadata": {
        "id": "a9iU12A0l4pd"
      }
    },
    {
      "cell_type": "code",
      "source": [
        "import numpy as np\n",
        "a = np.array([[0, 1], [2, 3]])\n",
        "v = np.array([0, 1],\n",
        "dtype=np.float64)\n",
        "print(\"A:\")\n",
        "print(a)\n",
        "print(\"\\n V:\")\n",
        "print(v)\n",
        "u = np.linalg.solve(a, v)\n",
        "print(\"\\n U:\")\n",
        "print(u)\n",
        "print(\"a @ u - v :\")\n",
        "x=a @ u - v\n",
        "print(x)"
      ],
      "metadata": {
        "colab": {
          "base_uri": "https://localhost:8080/"
        },
        "id": "6gQjq1M4mITt",
        "outputId": "a088267f-6a96-4926-eca0-d3d992ccb81a"
      },
      "execution_count": null,
      "outputs": [
        {
          "output_type": "stream",
          "name": "stdout",
          "text": [
            "A:\n",
            "[[0 1]\n",
            " [2 3]]\n",
            "\n",
            " V:\n",
            "[0. 1.]\n",
            "\n",
            " U:\n",
            "[0.5 0. ]\n",
            "a @ u - v :\n",
            "[0. 0.]\n"
          ]
        }
      ]
    },
    {
      "cell_type": "markdown",
      "source": [
        "Функция diag от одномерного массива строит диагональную матрицу;\n",
        "от квадратной матрицы — возвращает одномерный массив её диагональных\n",
        "элементов."
      ],
      "metadata": {
        "id": "8dQMWU4Amiqh"
      }
    },
    {
      "cell_type": "code",
      "source": [
        "import numpy as np\n",
        "a = np.array([[0, 1], [2,\n",
        "3]])\n",
        "print(\"A:\")\n",
        "print(a)\n",
        "print(\"diag(a):\")\n",
        "L = np.diag(a)\n",
        "print(L)\n",
        "print(\"diag(L): \")\n",
        "print(np.diag(L))"
      ],
      "metadata": {
        "colab": {
          "base_uri": "https://localhost:8080/"
        },
        "id": "QmucFSThmjeE",
        "outputId": "1305c62a-591e-4715-da5b-41208446adaa"
      },
      "execution_count": null,
      "outputs": [
        {
          "output_type": "stream",
          "name": "stdout",
          "text": [
            "A:\n",
            "[[0 1]\n",
            " [2 3]]\n",
            "diag(a):\n",
            "[0 3]\n",
            "diag(L): \n",
            "[[0 0]\n",
            " [0 3]]\n"
          ]
        }
      ]
    },
    {
      "cell_type": "markdown",
      "source": [
        "100 задач"
      ],
      "metadata": {
        "id": "W8x2b5z5mwxb"
      }
    },
    {
      "cell_type": "code",
      "source": [
        "#Импортировать NumPy под именем np\n",
        "import numpy as np\n",
        "#Напечатать версию и конфигурацию\n",
        "print(np.__version__)\n",
        "np.show_config()\n",
        "#Создать вектор (одномерный массив) размера 10, заполненный нулями\n",
        "Z = np.zeros(10)\n",
        "print(Z)\n",
        "#Создать вектор размера 10, заполненный единицами\n",
        "Z = np.ones(10)\n",
        "print(Z)\n",
        "#Создать вектор размера 10, заполненный числом 2.5\n",
        "Z = np.full(10, 2.5)\n",
        "print(Z)\n",
        "#Создать вектор размера 10, заполненный нулями, но пятый элемент равен 1\n",
        "Z = np.zeros(10)\n",
        "Z[4] = 1\n",
        "print(Z)\n",
        "#Создать вектор со значениями от 10 до 49\n",
        "Z = np.arange(10,50)\n",
        "print(Z)\n",
        "#Развернуть вектор (первый становится последним)\n",
        "Z = np.arange(50)\n",
        "Z = Z[::-1]\n",
        "#Создать матрицу (двумерный массив) 3x3 со значениями от 0 до 8\n",
        "nz = np.nonzero([1,2,0,0,4,0])\n",
        "print(nz)\n",
        "#Создать 3x3 единичную матрицу\n",
        "Z = np.eye(3)\n",
        "print(Z)\n",
        "#Создать массив 3x3x3 со случайными значениями\n",
        "Z = np.random.random((3,3,3))\n",
        "print(Z)\n",
        "#Создать массив 10x10 со случайными значениями, найти минимум и максимум\n",
        "Z = np.random.random((10,10))\n",
        "Zmin, Zmax = Z.min(), Z.max()\n",
        "print(Zmin, Zmax)\n",
        "\n",
        "#Создать случайный вектор размера 30 и найти среднее значение всех элементов\n",
        "Z = np.random.random(30)\n",
        "m = Z.mean()\n",
        "print(m)\n",
        "#Создать матрицу с 0 внутри, и 1 на границах\n",
        "Z = np.ones((10,10))\n",
        "Z[1:-1,1:-1] = 0\n",
        "#Выяснить результат следующих выражений\n",
        "0 * np.nan\n",
        "np.nan == np.nan\n",
        "np.inf > np.nan\n",
        "np.nan - np.nan\n",
        "0.3 == 3 * 0.1\n",
        "#Создать 5x5 матрицу с 1,2,3,4 под диагональю\n",
        "Z = np.diag(np.arange(1, 5), k=-1)\n",
        "print(Z)\n",
        "#Создать 8x8 матрицу и заполнить её в шахматном порядке\n",
        "Z = np.zeros((8,8), dtype=int)\n",
        "Z[1::2,::2] = 1\n",
        "Z[::2,1::2] = 1\n",
        "print(Z)\n",
        "#Дан массив размерности (6,7,8). Каков индекс (x,y,z) сотого элемента?\n",
        "print(np.unravel_index(100, (6,7,8)))\n",
        "#Создать 8x8 матрицу и заполнить её в шахматном порядке, используя функцию tile\n",
        "Z = np.tile(np.array([[0,1],[1,0]]), (4,4))\n",
        "print(Z)\n",
        "#Перемножить матрицы 5x3 и 3x2\n",
        "Z = np.dot(np.ones((5,3)), np.ones((3,2)))\n",
        "print(Z)\n",
        "#Создать 5x5 матрицу со значениями в строках от 0 до 4\n",
        "Z = np.zeros((5,5))\n",
        "Z += np.arange(5)\n",
        "print(Z)\n",
        "#Есть генератор, сделать с его помощью массив\n",
        "def generate():\n",
        "  for x in range(10):\n",
        "    yield x\n",
        "Z = np.fromiter(generate(),dtype=float,count=-1)\n",
        "print(Z)\n",
        "#Создать вектор размера 10 со значениями от 0 до 1, не включая ни то, ни другое\n",
        "Z = np.linspace(0,1,12)[1:-1]\n",
        "print(Z)\n",
        "#Отсортировать вектор\n",
        "Z = np.random.random(10)\n",
        "Z.sort()\n",
        "print(Z)\n",
        "#Проверить, одинаковы ли 2 numpy массива\n",
        "A = np.random.randint(0,2,5)\n",
        "B = np.random.randint(0,2,5)\n",
        "equal = np.allclose(A,B)\n",
        "print(equal)\n",
        "# Сделать массив неизменяемым\n",
        "Z = np.zeros(10)\n",
        "Z.flags.writeable = False\n",
        "#Z[0]=1\n",
        "#Дан массив 10x2 (точки в декартовой системе координат), преобразовать в полярную\n",
        "Z = np.random.random((10,2))\n",
        "X,Y = Z[:,0], Z[:,1]\n",
        "R = np.hypot(X, Y)\n",
        "T = np.arctan2(Y,X)\n",
        "print(R)\n",
        "print(T)\n",
        "#Заменить максимальный элемент на ноль \n",
        "Z = np.random.random(10)\n",
        "Z[Z.argmax()] = 0\n",
        "print(Z)\n",
        "#Создать структурированный массив с координатами x, y на сетке в квадрате [0,1]x[0,1]\n",
        "Z = np.zeros((10,10), [(\"x\",float),(\"y\",float)])\n",
        "Z[\"x\"], Z[\"y\"] = np.meshgrid(np.linspace(0,1,10),\n",
        "np.linspace(0,1,10))\n",
        "print(Z)\n",
        "#Из двух массивов сделать матрицу Коши C (Cij = 1/(xi - yj))\n",
        "X = np.arange(8)\n",
        "Y = X + 0.5\n",
        "C = 1.0 / np.subtract.outer(X, Y)\n",
        "print(np.linalg.det(C))\n",
        "#Найти минимальное и максимальное значение, принимаемое каждым числовым типом numpy\n",
        "for dtype in [np.int8, np.int32, np.int64]:\n",
        "  print(np.iinfo(dtype).min)\n",
        "  print(np.iinfo(dtype).max)\n",
        "for dtype in [np.float32, np.float64]:\n",
        "  print(np.finfo(dtype).min)\n",
        "  print(np.finfo(dtype).max)\n",
        "  print(np.finfo(dtype).eps)\n",
        "#Найти ближайшее к заданному значению число в заданном массиве\n",
        "Z = np.arange(100)\n",
        "v = np.random.uniform(0,100)\n",
        "index = (np.abs(Z-v)).argmin()\n",
        "print(Z[index])\n",
        "#Создать структурированный массив, представляющий координату (x,y) и цвет (r,g,b)\n",
        "Z = np.zeros(10, [ (\"position\", [ (\"x\", float, 1),\n",
        "(\"y\", float, 1)]),\n",
        "(\"color\", [ (\"r\", float, 1),\n",
        "(\"g\", float, 1),\n",
        "(\"b\", float, 1)])])"
      ],
      "metadata": {
        "colab": {
          "base_uri": "https://localhost:8080/"
        },
        "id": "Wi2hPHcpmxPN",
        "outputId": "c0df29c2-605e-4e7b-869d-8d3955b2bcd3"
      },
      "execution_count": 8,
      "outputs": [
        {
          "output_type": "stream",
          "name": "stdout",
          "text": [
            "1.21.6\n",
            "blas_mkl_info:\n",
            "  NOT AVAILABLE\n",
            "blis_info:\n",
            "  NOT AVAILABLE\n",
            "openblas_info:\n",
            "    libraries = ['openblas', 'openblas']\n",
            "    library_dirs = ['/usr/local/lib']\n",
            "    language = c\n",
            "    define_macros = [('HAVE_CBLAS', None)]\n",
            "    runtime_library_dirs = ['/usr/local/lib']\n",
            "blas_opt_info:\n",
            "    libraries = ['openblas', 'openblas']\n",
            "    library_dirs = ['/usr/local/lib']\n",
            "    language = c\n",
            "    define_macros = [('HAVE_CBLAS', None)]\n",
            "    runtime_library_dirs = ['/usr/local/lib']\n",
            "lapack_mkl_info:\n",
            "  NOT AVAILABLE\n",
            "openblas_lapack_info:\n",
            "    libraries = ['openblas', 'openblas']\n",
            "    library_dirs = ['/usr/local/lib']\n",
            "    language = c\n",
            "    define_macros = [('HAVE_CBLAS', None)]\n",
            "    runtime_library_dirs = ['/usr/local/lib']\n",
            "lapack_opt_info:\n",
            "    libraries = ['openblas', 'openblas']\n",
            "    library_dirs = ['/usr/local/lib']\n",
            "    language = c\n",
            "    define_macros = [('HAVE_CBLAS', None)]\n",
            "    runtime_library_dirs = ['/usr/local/lib']\n",
            "Supported SIMD extensions in this NumPy install:\n",
            "    baseline = SSE,SSE2,SSE3\n",
            "    found = SSSE3,SSE41,POPCNT,SSE42,AVX,F16C,FMA3,AVX2\n",
            "    not found = AVX512F,AVX512CD,AVX512_KNL,AVX512_KNM,AVX512_SKX,AVX512_CLX,AVX512_CNL,AVX512_ICL\n",
            "[0. 0. 0. 0. 0. 0. 0. 0. 0. 0.]\n",
            "[1. 1. 1. 1. 1. 1. 1. 1. 1. 1.]\n",
            "[2.5 2.5 2.5 2.5 2.5 2.5 2.5 2.5 2.5 2.5]\n",
            "[0. 0. 0. 0. 1. 0. 0. 0. 0. 0.]\n",
            "[10 11 12 13 14 15 16 17 18 19 20 21 22 23 24 25 26 27 28 29 30 31 32 33\n",
            " 34 35 36 37 38 39 40 41 42 43 44 45 46 47 48 49]\n",
            "(array([0, 1, 4]),)\n",
            "[[1. 0. 0.]\n",
            " [0. 1. 0.]\n",
            " [0. 0. 1.]]\n",
            "[[[0.75850174 0.79171514 0.80923014]\n",
            "  [0.72561208 0.99535154 0.88421543]\n",
            "  [0.48262311 0.11989279 0.85323908]]\n",
            "\n",
            " [[0.70742057 0.42881818 0.78619186]\n",
            "  [0.91698214 0.16574057 0.72312008]\n",
            "  [0.85532345 0.21431632 0.7746331 ]]\n",
            "\n",
            " [[0.28224766 0.80844408 0.64501635]\n",
            "  [0.09226566 0.06158296 0.53797129]\n",
            "  [0.73560935 0.66457528 0.30053841]]]\n",
            "0.036288362867991086 0.9919467668986032\n",
            "0.5413322119662024\n",
            "[[0 0 0 0 0]\n",
            " [1 0 0 0 0]\n",
            " [0 2 0 0 0]\n",
            " [0 0 3 0 0]\n",
            " [0 0 0 4 0]]\n",
            "[[0 1 0 1 0 1 0 1]\n",
            " [1 0 1 0 1 0 1 0]\n",
            " [0 1 0 1 0 1 0 1]\n",
            " [1 0 1 0 1 0 1 0]\n",
            " [0 1 0 1 0 1 0 1]\n",
            " [1 0 1 0 1 0 1 0]\n",
            " [0 1 0 1 0 1 0 1]\n",
            " [1 0 1 0 1 0 1 0]]\n",
            "(1, 5, 4)\n",
            "[[0 1 0 1 0 1 0 1]\n",
            " [1 0 1 0 1 0 1 0]\n",
            " [0 1 0 1 0 1 0 1]\n",
            " [1 0 1 0 1 0 1 0]\n",
            " [0 1 0 1 0 1 0 1]\n",
            " [1 0 1 0 1 0 1 0]\n",
            " [0 1 0 1 0 1 0 1]\n",
            " [1 0 1 0 1 0 1 0]]\n",
            "[[3. 3.]\n",
            " [3. 3.]\n",
            " [3. 3.]\n",
            " [3. 3.]\n",
            " [3. 3.]]\n",
            "[[0. 1. 2. 3. 4.]\n",
            " [0. 1. 2. 3. 4.]\n",
            " [0. 1. 2. 3. 4.]\n",
            " [0. 1. 2. 3. 4.]\n",
            " [0. 1. 2. 3. 4.]]\n",
            "[0. 1. 2. 3. 4. 5. 6. 7. 8. 9.]\n",
            "[0.09090909 0.18181818 0.27272727 0.36363636 0.45454545 0.54545455\n",
            " 0.63636364 0.72727273 0.81818182 0.90909091]\n",
            "[0.08352174 0.11328278 0.13781957 0.15429765 0.21919136 0.25308027\n",
            " 0.25481363 0.5179988  0.65460121 0.86690803]\n",
            "False\n",
            "[0.91818307 1.04122417 0.17092876 0.43607123 0.79200283 0.86590393\n",
            " 1.11931021 1.287045   0.51922878 1.09186537]\n",
            "[1.55771482 0.79566695 0.91611152 1.31477246 1.49547459 0.43428889\n",
            " 0.59387921 0.84161043 0.63875492 0.74949932]\n",
            "[0.8289697  0.08785913 0.69212949 0.         0.72992933 0.6192108\n",
            " 0.14273666 0.36926638 0.49186083 0.14100518]\n",
            "[[(0.        , 0.        ) (0.11111111, 0.        )\n",
            "  (0.22222222, 0.        ) (0.33333333, 0.        )\n",
            "  (0.44444444, 0.        ) (0.55555556, 0.        )\n",
            "  (0.66666667, 0.        ) (0.77777778, 0.        )\n",
            "  (0.88888889, 0.        ) (1.        , 0.        )]\n",
            " [(0.        , 0.11111111) (0.11111111, 0.11111111)\n",
            "  (0.22222222, 0.11111111) (0.33333333, 0.11111111)\n",
            "  (0.44444444, 0.11111111) (0.55555556, 0.11111111)\n",
            "  (0.66666667, 0.11111111) (0.77777778, 0.11111111)\n",
            "  (0.88888889, 0.11111111) (1.        , 0.11111111)]\n",
            " [(0.        , 0.22222222) (0.11111111, 0.22222222)\n",
            "  (0.22222222, 0.22222222) (0.33333333, 0.22222222)\n",
            "  (0.44444444, 0.22222222) (0.55555556, 0.22222222)\n",
            "  (0.66666667, 0.22222222) (0.77777778, 0.22222222)\n",
            "  (0.88888889, 0.22222222) (1.        , 0.22222222)]\n",
            " [(0.        , 0.33333333) (0.11111111, 0.33333333)\n",
            "  (0.22222222, 0.33333333) (0.33333333, 0.33333333)\n",
            "  (0.44444444, 0.33333333) (0.55555556, 0.33333333)\n",
            "  (0.66666667, 0.33333333) (0.77777778, 0.33333333)\n",
            "  (0.88888889, 0.33333333) (1.        , 0.33333333)]\n",
            " [(0.        , 0.44444444) (0.11111111, 0.44444444)\n",
            "  (0.22222222, 0.44444444) (0.33333333, 0.44444444)\n",
            "  (0.44444444, 0.44444444) (0.55555556, 0.44444444)\n",
            "  (0.66666667, 0.44444444) (0.77777778, 0.44444444)\n",
            "  (0.88888889, 0.44444444) (1.        , 0.44444444)]\n",
            " [(0.        , 0.55555556) (0.11111111, 0.55555556)\n",
            "  (0.22222222, 0.55555556) (0.33333333, 0.55555556)\n",
            "  (0.44444444, 0.55555556) (0.55555556, 0.55555556)\n",
            "  (0.66666667, 0.55555556) (0.77777778, 0.55555556)\n",
            "  (0.88888889, 0.55555556) (1.        , 0.55555556)]\n",
            " [(0.        , 0.66666667) (0.11111111, 0.66666667)\n",
            "  (0.22222222, 0.66666667) (0.33333333, 0.66666667)\n",
            "  (0.44444444, 0.66666667) (0.55555556, 0.66666667)\n",
            "  (0.66666667, 0.66666667) (0.77777778, 0.66666667)\n",
            "  (0.88888889, 0.66666667) (1.        , 0.66666667)]\n",
            " [(0.        , 0.77777778) (0.11111111, 0.77777778)\n",
            "  (0.22222222, 0.77777778) (0.33333333, 0.77777778)\n",
            "  (0.44444444, 0.77777778) (0.55555556, 0.77777778)\n",
            "  (0.66666667, 0.77777778) (0.77777778, 0.77777778)\n",
            "  (0.88888889, 0.77777778) (1.        , 0.77777778)]\n",
            " [(0.        , 0.88888889) (0.11111111, 0.88888889)\n",
            "  (0.22222222, 0.88888889) (0.33333333, 0.88888889)\n",
            "  (0.44444444, 0.88888889) (0.55555556, 0.88888889)\n",
            "  (0.66666667, 0.88888889) (0.77777778, 0.88888889)\n",
            "  (0.88888889, 0.88888889) (1.        , 0.88888889)]\n",
            " [(0.        , 1.        ) (0.11111111, 1.        )\n",
            "  (0.22222222, 1.        ) (0.33333333, 1.        )\n",
            "  (0.44444444, 1.        ) (0.55555556, 1.        )\n",
            "  (0.66666667, 1.        ) (0.77777778, 1.        )\n",
            "  (0.88888889, 1.        ) (1.        , 1.        )]]\n",
            "3638.163637117973\n",
            "-128\n",
            "127\n",
            "-2147483648\n",
            "2147483647\n",
            "-9223372036854775808\n",
            "9223372036854775807\n",
            "-3.4028235e+38\n",
            "3.4028235e+38\n",
            "1.1920929e-07\n",
            "-1.7976931348623157e+308\n",
            "1.7976931348623157e+308\n",
            "2.220446049250313e-16\n",
            "85\n"
          ]
        },
        {
          "output_type": "stream",
          "name": "stderr",
          "text": [
            "/usr/local/lib/python3.7/dist-packages/ipykernel_launcher.py:133: FutureWarning: Passing (type, 1) or '1type' as a synonym of type is deprecated; in a future version of numpy, it will be understood as (type, (1,)) / '(1,)type'.\n"
          ]
        }
      ]
    }
  ]
}