{
  "nbformat": 4,
  "nbformat_minor": 0,
  "metadata": {
    "colab": {
      "provenance": [],
      "authorship_tag": "ABX9TyNjDIyjAqEcAK1Vq/J8R2ip",
      "include_colab_link": true
    },
    "kernelspec": {
      "name": "python3",
      "display_name": "Python 3"
    },
    "language_info": {
      "name": "python"
    }
  },
  "cells": [
    {
      "cell_type": "markdown",
      "metadata": {
        "id": "view-in-github",
        "colab_type": "text"
      },
      "source": [
        "<a href=\"https://colab.research.google.com/github/AlinaSharonova/AlinaSharonova/blob/master/%D0%91%D0%B8%D0%B1%D0%BB%D0%B8%D0%BE%D1%82%D0%B5%D0%BA%D0%B0_Numpy.ipynb\" target=\"_parent\"><img src=\"https://colab.research.google.com/assets/colab-badge.svg\" alt=\"Open In Colab\"/></a>"
      ]
    },
    {
      "cell_type": "markdown",
      "source": [
        "**Библиотека Numpy**"
      ],
      "metadata": {
        "id": "3sxZ2bExY0VS"
      }
    },
    {
      "cell_type": "code",
      "execution_count": 1,
      "metadata": {
        "colab": {
          "base_uri": "https://localhost:8080/"
        },
        "id": "NyXWBU6cYyh8",
        "outputId": "57167ed9-137c-446c-b6fd-1aaf7017ab15"
      },
      "outputs": [
        {
          "output_type": "stream",
          "name": "stdout",
          "text": [
            "[0 2 1] <class 'numpy.ndarray'>\n",
            "[1. 4. 5. 8.] <class 'numpy.ndarray'>\n"
          ]
        }
      ],
      "source": [
        "import numpy as np\n",
        "a = np.array([0, 2, 1])\n",
        "print(a, type(a))\n",
        "b = np.array([1, 4, 5, 8],\n",
        "float)\n",
        "print(b, type(b))"
      ]
    },
    {
      "cell_type": "code",
      "source": [
        "import numpy as np\n",
        "b = np.array([1, 4, 5, 8],\n",
        "float)\n",
        "print(b, type(b))\n",
        "print(b[:2])\n",
        "print(b[2:])\n",
        "print(b[3])\n",
        "b[0]=20\n",
        "print(b)"
      ],
      "metadata": {
        "colab": {
          "base_uri": "https://localhost:8080/"
        },
        "id": "PqpxJrHfbIvt",
        "outputId": "943a4bd2-c1f8-4b7b-9a31-53da5fdcdf19"
      },
      "execution_count": 4,
      "outputs": [
        {
          "output_type": "stream",
          "name": "stdout",
          "text": [
            "[1. 4. 5. 8.] <class 'numpy.ndarray'>\n",
            "[1. 4.]\n",
            "[5. 8.]\n",
            "8.0\n",
            "[20.  4.  5.  8.]\n"
          ]
        }
      ]
    },
    {
      "cell_type": "code",
      "source": [
        "import numpy as np\n",
        "a = np.array([[1, 2, 3], [4, 5, 6]],\n",
        "float)\n",
        "print(a)\n",
        "print(a[0,0])\n",
        "print(a[0,1])\n",
        "print(a[1,0])\n",
        "print (\"------------------------------------\")\n",
        "print(a[1,:])\n",
        "print(a[:,2])\n",
        "print(a[-1:, -2:])\n",
        "print(\"Shape a - \", a.shape)\n",
        "print(\"Type a - \", a.dtype)\n",
        "print(len(a))\n",
        "print(len(a[0]))\n",
        "print(len(a[1]))\n",
        "print(2 in a)\n",
        "print(0 in a)"
      ],
      "metadata": {
        "colab": {
          "base_uri": "https://localhost:8080/"
        },
        "id": "bk_mqF9ZbtCw",
        "outputId": "c6ee7429-a592-4d66-8e81-27dce9de8202"
      },
      "execution_count": 14,
      "outputs": [
        {
          "output_type": "stream",
          "name": "stdout",
          "text": [
            "[[1. 2. 3.]\n",
            " [4. 5. 6.]]\n",
            "1.0\n",
            "2.0\n",
            "4.0\n",
            "------------------------------------\n",
            "[4. 5. 6.]\n",
            "[3. 6.]\n",
            "[[5. 6.]]\n",
            "Shape a -  (2, 3)\n",
            "Type a -  float64\n",
            "2\n",
            "3\n",
            "3\n",
            "True\n",
            "False\n"
          ]
        }
      ]
    },
    {
      "cell_type": "code",
      "source": [
        "import numpy as np\n",
        "a = np.array([1,2], float)\n",
        "b = np.array([3,4,5,6],\n",
        "float)\n",
        "c = np.array([7,8,9], float)\n",
        "print(\"A:\", a)\n",
        "print(\"B:\", b)\n",
        "print(\"C:\", c)\n",
        "print(\"Concatenate:\")\n",
        "d=np.concatenate((a, b, c))\n",
        "print(d)"
      ],
      "metadata": {
        "colab": {
          "base_uri": "https://localhost:8080/"
        },
        "id": "C-OeNLURb1Rv",
        "outputId": "d2726e6e-cc77-4f2d-9b3b-0c88e69a0ac9"
      },
      "execution_count": 16,
      "outputs": [
        {
          "output_type": "stream",
          "name": "stdout",
          "text": [
            "A: [1. 2.]\n",
            "B: [3. 4. 5. 6.]\n",
            "C: [7. 8. 9.]\n",
            "Concatenate:\n",
            "[1. 2. 3. 4. 5. 6. 7. 8. 9.]\n"
          ]
        }
      ]
    },
    {
      "cell_type": "code",
      "source": [
        "import numpy as np\n",
        "a = np.array([[1, 2], [3, 4]],\n",
        "float)\n",
        "b = np.array([[5, 6], [7,8]], float)\n",
        "print(\"A:\")\n",
        "print(a)\n",
        "print(\"B:\")\n",
        "print(b)\n",
        "print(\"Concatenate:\")\n",
        "c=np.concatenate((a,b))\n",
        "print(c)\n",
        "print(\"Concatenate axis=0:\")\n",
        "d=np.concatenate((a,b), axis=0)\n",
        "print(d)\n",
        "print(\"Concatenate axis=1:\")\n",
        "e=np.concatenate((a,b), axis=1)\n",
        "print(e)"
      ],
      "metadata": {
        "colab": {
          "base_uri": "https://localhost:8080/"
        },
        "id": "tEfx49lvfMEZ",
        "outputId": "3a0c03f6-4f75-4687-c26c-77ec52e70b34"
      },
      "execution_count": 17,
      "outputs": [
        {
          "output_type": "stream",
          "name": "stdout",
          "text": [
            "A:\n",
            "[[1. 2.]\n",
            " [3. 4.]]\n",
            "B:\n",
            "[[5. 6.]\n",
            " [7. 8.]]\n",
            "Concatenate:\n",
            "[[1. 2.]\n",
            " [3. 4.]\n",
            " [5. 6.]\n",
            " [7. 8.]]\n",
            "Concatenate axis=0:\n",
            "[[1. 2.]\n",
            " [3. 4.]\n",
            " [5. 6.]\n",
            " [7. 8.]]\n",
            "Concatenate axis=1:\n",
            "[[1. 2. 5. 6.]\n",
            " [3. 4. 7. 8.]]\n"
          ]
        }
      ]
    },
    {
      "cell_type": "code",
      "source": [
        "import numpy as np\n",
        "a = np.array([[1, 2, 3], [4, 5, 6]],\n",
        "float)\n",
        "b=np.zeros_like(a)\n",
        "c= np.ones_like(a)\n",
        "print(\"A:\")\n",
        "print(a)\n",
        "print(\"B:\")\n",
        "print(b)\n",
        "print(\"C:\")\n",
        "print(c)"
      ],
      "metadata": {
        "colab": {
          "base_uri": "https://localhost:8080/"
        },
        "id": "sx_Ed_EIf9lg",
        "outputId": "28b5cc05-f8d9-4931-d196-e479510a432a"
      },
      "execution_count": 30,
      "outputs": [
        {
          "output_type": "stream",
          "name": "stdout",
          "text": [
            "A:\n",
            "[[1. 2. 3.]\n",
            " [4. 5. 6.]]\n",
            "B:\n",
            "[[0. 0. 0.]\n",
            " [0. 0. 0.]]\n",
            "C:\n",
            "[[1. 1. 1.]\n",
            " [1. 1. 1.]]\n"
          ]
        }
      ]
    },
    {
      "cell_type": "code",
      "source": [
        "import numpy as np\n",
        "a=np.identity(4,\n",
        "dtype=float)\n",
        "print(a)"
      ],
      "metadata": {
        "colab": {
          "base_uri": "https://localhost:8080/"
        },
        "id": "Y5kJCPC5gERw",
        "outputId": "d5bc2f45-6a8b-47ab-f450-9e90256a30e8"
      },
      "execution_count": 31,
      "outputs": [
        {
          "output_type": "stream",
          "name": "stdout",
          "text": [
            "[[1. 0. 0. 0.]\n",
            " [0. 1. 0. 0.]\n",
            " [0. 0. 1. 0.]\n",
            " [0. 0. 0. 1.]]\n"
          ]
        }
      ]
    },
    {
      "cell_type": "code",
      "source": [
        "import numpy as np\n",
        "a=np.eye(4, k=1,\n",
        "dtype=float)\n",
        "print(a)"
      ],
      "metadata": {
        "colab": {
          "base_uri": "https://localhost:8080/"
        },
        "id": "w0ftKhC8gEzv",
        "outputId": "895e817d-16ed-4a19-8d20-6453ea8e4cc2"
      },
      "execution_count": 32,
      "outputs": [
        {
          "output_type": "stream",
          "name": "stdout",
          "text": [
            "[[0. 1. 0. 0.]\n",
            " [0. 0. 1. 0.]\n",
            " [0. 0. 0. 1.]\n",
            " [0. 0. 0. 0.]]\n"
          ]
        }
      ]
    },
    {
      "cell_type": "markdown",
      "source": [
        "цикл с параметром 11 и 21\n"
      ],
      "metadata": {
        "id": "xU5tJPXLY7rt"
      }
    },
    {
      "cell_type": "markdown",
      "source": [
        "11. Дано целое число N (> 0). Найти сумму\n",
        "\n",
        "N^2 + (N + 1)^2 + (N + 2)^2 + . . . + (2·N)^2\n",
        "\n",
        "(целое число)."
      ],
      "metadata": {
        "id": "lBD26U9VnVZv"
      }
    },
    {
      "cell_type": "code",
      "source": [
        "N=2\n",
        "sum = 0\n",
        "sum += N**2\n",
        "k=N\n",
        "while k != 0:\n",
        "  sum+= (N+k)**2\n",
        "  k = k - 1\n",
        "print(sum)"
      ],
      "metadata": {
        "colab": {
          "base_uri": "https://localhost:8080/"
        },
        "id": "7-EGymwvY8Q1",
        "outputId": "722f8a2d-d646-45c7-b15e-fb3c57d3c812"
      },
      "execution_count": 21,
      "outputs": [
        {
          "output_type": "stream",
          "name": "stdout",
          "text": [
            "29\n"
          ]
        }
      ]
    },
    {
      "cell_type": "markdown",
      "source": [
        "21. Дано целое число N (> 0). Используя один цикл, найти сумму\n",
        "\n",
        "1 + 1/(1!) + 1/(2!) + 1/(3!) + . . . + 1/(N!)\n",
        "\n",
        "(выражение N! — N–факториал — обозначает произведение всех целых\n",
        "\n",
        "чисел от 1 до N: N! = 1·2·. . .·N). Полученное число является прибли-\n",
        "женным значением константы e = exp(1)."
      ],
      "metadata": {
        "id": "N6hkE4kmnnsl"
      }
    },
    {
      "cell_type": "code",
      "source": [
        "N=2\n",
        "s= 0\n",
        "s= s+1\n",
        "f= 1\n",
        "i = 1\n",
        "while i<=N:\n",
        "  f= f*i\n",
        "  s= s+ 1/f\n",
        "  i += 1\n",
        "print (s)"
      ],
      "metadata": {
        "colab": {
          "base_uri": "https://localhost:8080/"
        },
        "id": "1dfliZODhn9a",
        "outputId": "5b8aac35-1d14-4c5a-c891-5941cbfdb512"
      },
      "execution_count": 36,
      "outputs": [
        {
          "output_type": "stream",
          "name": "stdout",
          "text": [
            "2.5\n"
          ]
        }
      ]
    }
  ]
}