{
  "nbformat": 4,
  "nbformat_minor": 0,
  "metadata": {
    "colab": {
      "provenance": [],
      "authorship_tag": "ABX9TyMwHqHiRfkoZF5mZdWYQ74Q",
      "include_colab_link": true
    },
    "kernelspec": {
      "name": "python3",
      "display_name": "Python 3"
    },
    "language_info": {
      "name": "python"
    }
  },
  "cells": [
    {
      "cell_type": "markdown",
      "metadata": {
        "id": "view-in-github",
        "colab_type": "text"
      },
      "source": [
        "<a href=\"https://colab.research.google.com/github/AlinaSharonova/AlinaSharonova/blob/master/Number_11.ipynb\" target=\"_parent\"><img src=\"https://colab.research.google.com/assets/colab-badge.svg\" alt=\"Open In Colab\"/></a>"
      ]
    },
    {
      "cell_type": "markdown",
      "source": [
        "Ввод и вывод данных, оператор присваивания\n",
        "\n",
        "Number 11 и 21"
      ],
      "metadata": {
        "id": "78DFGyPVfz3j"
      }
    },
    {
      "cell_type": "code",
      "source": [
        "a = 5\n",
        "b = 3\n",
        "abs_a = abs(a)\n",
        "abs_b = abs(b)\n",
        "print(\"Сумма модулей:\", abs_a+abs_b)\n",
        "print(\"Разность модулей:\", abs(abs_a-abs_b))\n",
        "print(\"Произведение модулей:\", abs_a*abs_b)\n",
        "print(\"Частное модулей:\", abs_a/abs_b)"
      ],
      "metadata": {
        "colab": {
          "base_uri": "https://localhost:8080/"
        },
        "id": "onuUheDTb-1B",
        "outputId": "e44c93c1-4425-4f08-c00f-cf04c5b7ecf6"
      },
      "execution_count": 1,
      "outputs": [
        {
          "output_type": "stream",
          "name": "stdout",
          "text": [
            "Сумма модулей: 8\n",
            "Разность модулей: 2\n",
            "Произведение модулей: 15\n",
            "Частное модулей: 1.6666666666666667\n"
          ]
        }
      ]
    },
    {
      "cell_type": "code",
      "source": [
        "from math import sqrt\n",
        "\n",
        "x1=1\n",
        "y1=1\n",
        "x2=2\n",
        "y2=2\n",
        "x3=3\n",
        "y3=0\n",
        "a=sqrt((x2-x1)**2+(y2-y1)**2)\n",
        "b=sqrt((x3-x2)**2+(y3-y2)**2)\n",
        "c=sqrt((x1-x3)**2+(y1-y3)**2)\n",
        "p=(a+b+c)/2.0\n",
        "s=sqrt(p*(p-a)*(p-b)*(p-c))\n",
        "print(\"Площадь:\",s,\"Периметр:\",a+b+c)\n",
        "\n"
      ],
      "metadata": {
        "colab": {
          "base_uri": "https://localhost:8080/"
        },
        "id": "PIaCMXccdJZ_",
        "outputId": "b3e305aa-27c0-4deb-ca0a-cb33693621cc"
      },
      "execution_count": 7,
      "outputs": [
        {
          "output_type": "stream",
          "name": "stdout",
          "text": [
            "Площадь: 1.4999999999999998 Периметр: 5.8863495173726745\n"
          ]
        }
      ]
    },
    {
      "cell_type": "markdown",
      "source": [
        "Целые числа\n",
        "\n",
        "Number 11 и 21"
      ],
      "metadata": {
        "id": "7wIVxfdVfnS1"
      }
    },
    {
      "cell_type": "code",
      "source": [
        "n = 123\n",
        "a = n // 100\n",
        "b = n // 10 % 10\n",
        "c = n % 10\n",
        "print(a, b, c)\n",
        "print(\"Сумма:\", a+b+c)\n",
        "print(\"Произведение:\", a*b*c)"
      ],
      "metadata": {
        "colab": {
          "base_uri": "https://localhost:8080/"
        },
        "id": "ApNs_U7cfu0z",
        "outputId": "b0edb50c-0dda-413b-b484-fcc69224004b"
      },
      "execution_count": 9,
      "outputs": [
        {
          "output_type": "stream",
          "name": "stdout",
          "text": [
            "1 2 3\n",
            "Сумма: 6\n",
            "Произведение: 6\n"
          ]
        }
      ]
    },
    {
      "cell_type": "code",
      "source": [
        "N = 122\n",
        "n = N%60\n",
        "print (n)"
      ],
      "metadata": {
        "colab": {
          "base_uri": "https://localhost:8080/"
        },
        "id": "PS03L3cthDnq",
        "outputId": "98c39166-c8bb-46d6-b969-842b4c5dcbaf"
      },
      "execution_count": 11,
      "outputs": [
        {
          "output_type": "stream",
          "name": "stdout",
          "text": [
            "2\n"
          ]
        }
      ]
    },
    {
      "cell_type": "markdown",
      "source": [
        "Логические выражения\n",
        "\n",
        "Number 11 и 21"
      ],
      "metadata": {
        "id": "lr_RzDijhU0B"
      }
    },
    {
      "cell_type": "code",
      "source": [
        "a = 2\n",
        "b = 3\n",
        "print (a%2 == b%2)"
      ],
      "metadata": {
        "colab": {
          "base_uri": "https://localhost:8080/"
        },
        "id": "DM2QE0mRhcAp",
        "outputId": "28d8dd78-bd12-401e-a488-55443e9aaccc"
      },
      "execution_count": 14,
      "outputs": [
        {
          "output_type": "stream",
          "name": "stdout",
          "text": [
            "False\n"
          ]
        }
      ]
    },
    {
      "cell_type": "code",
      "source": [
        "n = 123\n",
        "a = n // 100\n",
        "b = n // 10 % 10\n",
        "c = n % 10\n",
        "print(a, b, c)\n",
        "print ( a<b<c)"
      ],
      "metadata": {
        "colab": {
          "base_uri": "https://localhost:8080/"
        },
        "id": "dfcJfEGriGIF",
        "outputId": "6811acda-68ab-4289-d641-6886cd85b4ce"
      },
      "execution_count": 17,
      "outputs": [
        {
          "output_type": "stream",
          "name": "stdout",
          "text": [
            "1 2 3\n",
            "True\n"
          ]
        }
      ]
    },
    {
      "cell_type": "markdown",
      "source": [
        "Условный оператор\n",
        "\n",
        "Number 11 и 21"
      ],
      "metadata": {
        "id": "Er5xjzpgiLe3"
      }
    },
    {
      "cell_type": "code",
      "source": [
        "a = 1\n",
        "b = 2\n",
        "if a!=b:\n",
        "  if a>b:\n",
        "    b = a\n",
        "  else:\n",
        "    a = b\n",
        "else:\n",
        "  a=0\n",
        "  b=0\n",
        "\n",
        "print(a, b)"
      ],
      "metadata": {
        "colab": {
          "base_uri": "https://localhost:8080/"
        },
        "id": "dw-KQXsWiRte",
        "outputId": "90050970-bc3f-4ff4-c83b-6e96f00d1b14"
      },
      "execution_count": 21,
      "outputs": [
        {
          "output_type": "stream",
          "name": "stdout",
          "text": [
            "2 2\n"
          ]
        }
      ]
    },
    {
      "cell_type": "code",
      "source": [
        "x1=1\n",
        "y1=3\n",
        "\n",
        "if x1==0 and y1==0:\n",
        "  print (0)\n",
        "\n",
        "if x1==0 and y1!=0:\n",
        "  print (1)\n",
        "\n",
        "if y1==0 and x1!=0:\n",
        "  print (2)\n",
        "\n",
        "if x1!=0 and y1!=0:\n",
        "  print(3)"
      ],
      "metadata": {
        "colab": {
          "base_uri": "https://localhost:8080/"
        },
        "id": "cg49SmUujExf",
        "outputId": "610901ba-df9b-490d-f45b-a6a7c3bef252"
      },
      "execution_count": 27,
      "outputs": [
        {
          "output_type": "stream",
          "name": "stdout",
          "text": [
            "3\n"
          ]
        }
      ]
    }
  ]
}